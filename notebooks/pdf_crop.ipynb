{
 "cells": [
  {
   "cell_type": "markdown",
   "metadata": {},
   "source": [
    "# Cropping PDFs"
   ]
  },
  {
   "cell_type": "code",
   "execution_count": 73,
   "metadata": {},
   "outputs": [],
   "source": [
    "from PyPDF2 import PdfFileReader, PdfFileWriter"
   ]
  },
  {
   "cell_type": "code",
   "execution_count": 74,
   "metadata": {},
   "outputs": [],
   "source": [
    "# storing nb names:\n",
    "# 1.0-jo-extract-prostate-data\n",
    "# 2.0-jo-data-exploration\n",
    "# 3.0-jo-building-predictive-model\n",
    "# Rscript_knitr\n",
    "\n",
    "direc = '../docs/'\n",
    "name = '3.0-jo-building-predictive-model'\n",
    "path = direc + name + '.pdf'\n",
    "reader = PdfFileReader(path, 'r')"
   ]
  },
  {
   "cell_type": "code",
   "execution_count": 75,
   "metadata": {},
   "outputs": [
    {
     "data": {
      "text/plain": [
       "8"
      ]
     },
     "execution_count": 75,
     "metadata": {},
     "output_type": "execute_result"
    }
   ],
   "source": [
    "# create reader object\n",
    "reader.getNumPages()"
   ]
  },
  {
   "cell_type": "code",
   "execution_count": 76,
   "metadata": {},
   "outputs": [],
   "source": [
    "# grab the 1st page\n",
    "page1 = reader.getPage(0)"
   ]
  },
  {
   "cell_type": "code",
   "execution_count": 77,
   "metadata": {},
   "outputs": [
    {
     "name": "stdout",
     "output_type": "stream",
     "text": [
      "Lower Left: (0, 0)\n",
      "Upper Left: (0, 792)\n",
      "Upper Right: (612, 792)\n",
      "Lower Right: (612, 0)\n"
     ]
    }
   ],
   "source": [
    "# dimensions of 1st page in document\n",
    "ll1 = page1.cropBox.getLowerLeft()\n",
    "ul1 = page1.cropBox.getUpperLeft()\n",
    "ur1 = page1.cropBox.getUpperRight()\n",
    "lr1 = page1.cropBox.getLowerRight()\n",
    "print('Lower Left: {ll}\\nUpper Left: {ul}\\nUpper Right: {ur}\\nLower Right: {lr}'.format(ll=ll1, ul=ul1, ur=ur1, lr=lr1))"
   ]
  },
  {
   "cell_type": "code",
   "execution_count": 78,
   "metadata": {},
   "outputs": [
    {
     "name": "stdout",
     "output_type": "stream",
     "text": [
      "Height: 11.0\"\n",
      "Width: 8.5\"\n"
     ]
    }
   ],
   "source": [
    "# capture 1st page dimensions in inches\n",
    "height_in = ur1[1] / 72 \n",
    "width_in = ur1[0] /72\n",
    "print('Height: {h}\"'.format(h=height_in))\n",
    "print('Width: {w}\"'.format(w=width_in))"
   ]
  },
  {
   "cell_type": "code",
   "execution_count": 79,
   "metadata": {},
   "outputs": [],
   "source": [
    "# create the write object\n",
    "writer = PdfFileWriter()"
   ]
  },
  {
   "cell_type": "code",
   "execution_count": 80,
   "metadata": {},
   "outputs": [],
   "source": [
    "# iterate over all pages and crop\n",
    "# pages are added to the writer object\n",
    "for i in range(reader.getNumPages()):\n",
    "    page = reader.getPage(i)\n",
    "\n",
    "    ll = page.cropBox.getLowerLeft()\n",
    "    ur = page.cropBox.getUpperRight()\n",
    "\n",
    "    # nb 1.0 use +72 y lower bound\n",
    "    # nb 2.0 use +12 (i think) y lower bound\n",
    "    # nb 3.0 use +50 y lower bound\n",
    "    # Rscript_knitr use + 50 y lower bound\n",
    "    \n",
    "    page.cropBox.setLowerLeft((0, ll[1] + 50))\n",
    "    page.cropBox.setUpperRight(ur)\n",
    "    writer.addPage(page)"
   ]
  },
  {
   "cell_type": "code",
   "execution_count": 81,
   "metadata": {},
   "outputs": [],
   "source": [
    "# save the new pdf\n",
    "out_name = name + '_cropped'\n",
    "out_path = direc + out_name + '.pdf'\n",
    "\n",
    "outstream = open(out_path, 'wb')\n",
    "writer.write(outstream)\n",
    "outstream.close()"
   ]
  }
 ],
 "metadata": {
  "kernelspec": {
   "display_name": "Python 3",
   "language": "python",
   "name": "python3"
  },
  "language_info": {
   "codemirror_mode": {
    "name": "ipython",
    "version": 3
   },
   "file_extension": ".py",
   "mimetype": "text/x-python",
   "name": "python",
   "nbconvert_exporter": "python",
   "pygments_lexer": "ipython3",
   "version": "3.7.4"
  }
 },
 "nbformat": 4,
 "nbformat_minor": 2
}
