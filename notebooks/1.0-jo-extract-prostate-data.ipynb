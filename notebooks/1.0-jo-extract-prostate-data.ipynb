{
 "cells": [
  {
   "cell_type": "markdown",
   "metadata": {},
   "source": [
    "# Extract Prostate Cancer Data From Textbook URL"
   ]
  },
  {
   "cell_type": "code",
   "execution_count": 1,
   "metadata": {},
   "outputs": [],
   "source": [
    "import urllib.request\n",
    "import os.path"
   ]
  },
  {
   "cell_type": "code",
   "execution_count": 2,
   "metadata": {},
   "outputs": [],
   "source": [
    "# open connection to URL\n",
    "webUrl = 'http://www.cnachtsheim-text.csom.umn.edu/Kutner/Appendix%20C%20Data%20Sets/APPENC05.txt'\n",
    "response = urllib.request.urlopen(webUrl)\n",
    "data = response.read()\n",
    "\n",
    "# decode bytes to string\n",
    "data = data.decode('utf-8')\n",
    "data = data.replace('\\r', '')"
   ]
  },
  {
   "cell_type": "code",
   "execution_count": 3,
   "metadata": {},
   "outputs": [],
   "source": [
    "# write to .txt file and store\n",
    "filename = 'APPENC05'\n",
    "out_filename = '../data/raw/' + filename + '.txt'\n",
    "if not os.path.isdir(out_filename):\n",
    "    output_file = open(out_filename, 'w')\n",
    "    output_file.write(data)\n",
    "    output_file.close()"
   ]
  }
 ],
 "metadata": {
  "kernelspec": {
   "display_name": "Python 3",
   "language": "python",
   "name": "python3"
  },
  "language_info": {
   "codemirror_mode": {
    "name": "ipython",
    "version": 3
   },
   "file_extension": ".py",
   "mimetype": "text/x-python",
   "name": "python",
   "nbconvert_exporter": "python",
   "pygments_lexer": "ipython3",
   "version": "3.7.4"
  }
 },
 "nbformat": 4,
 "nbformat_minor": 2
}
