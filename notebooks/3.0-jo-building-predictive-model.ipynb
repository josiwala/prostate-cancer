{
 "cells": [
  {
   "cell_type": "markdown",
   "metadata": {},
   "source": [
    "# Building Predictive Models"
   ]
  },
  {
   "cell_type": "code",
   "execution_count": 1,
   "metadata": {},
   "outputs": [],
   "source": [
    "# imports\n",
    "import pandas as pd\n",
    "import numpy as np\n",
    "import sklearn\n",
    "import os"
   ]
  },
  {
   "cell_type": "markdown",
   "metadata": {},
   "source": [
    "## Import Data"
   ]
  },
  {
   "cell_type": "markdown",
   "metadata": {},
   "source": [
    "Train and test data were randomly split within R, using 0.80 ratio.\n",
    "<br>The two dataframes were written to independent csv files, and will be brought into the Python notebook now."
   ]
  },
  {
   "cell_type": "code",
   "execution_count": 27,
   "metadata": {},
   "outputs": [],
   "source": [
    "# set path to processed train/test data\n",
    "processed_data_path = os.path.join(os.path.pardir, 'data', 'processed')\n",
    "train_file_path = os.path.join(processed_data_path, 'train.txt')\n",
    "test_file_path = os.path.join(processed_data_path, 'test.txt')"
   ]
  },
  {
   "cell_type": "code",
   "execution_count": 28,
   "metadata": {},
   "outputs": [],
   "source": [
    "df_train = pd.read_csv(train_file_path, index_col='Obs')\n",
    "df_test = pd.read_csv(test_file_path, index_col='Obs')"
   ]
  },
  {
   "cell_type": "code",
   "execution_count": 29,
   "metadata": {},
   "outputs": [
    {
     "name": "stdout",
     "output_type": "stream",
     "text": [
      "<class 'pandas.core.frame.DataFrame'>\n",
      "Int64Index: 76 entries, 1 to 97\n",
      "Data columns (total 9 columns):\n",
      "Unnamed: 0                    76 non-null int64\n",
      "Y_HighGradeCancer             76 non-null int64\n",
      "PSALevel                      76 non-null float64\n",
      "CancerVol                     76 non-null float64\n",
      "Weight                        76 non-null float64\n",
      "Age                           76 non-null float64\n",
      "BenignProstaticHyperplasia    76 non-null float64\n",
      "SeminalVesicleInvasion        76 non-null int64\n",
      "CapsularPenetration           76 non-null float64\n",
      "dtypes: float64(6), int64(3)\n",
      "memory usage: 5.9 KB\n",
      "<class 'pandas.core.frame.DataFrame'>\n",
      "Int64Index: 21 entries, 5 to 95\n",
      "Data columns (total 9 columns):\n",
      "Unnamed: 0                    21 non-null int64\n",
      "Y_HighGradeCancer             21 non-null int64\n",
      "PSALevel                      21 non-null float64\n",
      "CancerVol                     21 non-null float64\n",
      "Weight                        21 non-null float64\n",
      "Age                           21 non-null float64\n",
      "BenignProstaticHyperplasia    21 non-null float64\n",
      "SeminalVesicleInvasion        21 non-null int64\n",
      "CapsularPenetration           21 non-null float64\n",
      "dtypes: float64(6), int64(3)\n",
      "memory usage: 1.6 KB\n"
     ]
    }
   ],
   "source": [
    "df_train.info()\n",
    "df_test.info()"
   ]
  },
  {
   "cell_type": "code",
   "execution_count": 30,
   "metadata": {},
   "outputs": [
    {
     "data": {
      "text/plain": [
       "Index(['Unnamed: 0', 'Y_HighGradeCancer', 'PSALevel', 'CancerVol', 'Weight',\n",
       "       'Age', 'BenignProstaticHyperplasia', 'SeminalVesicleInvasion',\n",
       "       'CapsularPenetration'],\n",
       "      dtype='object')"
      ]
     },
     "execution_count": 30,
     "metadata": {},
     "output_type": "execute_result"
    }
   ],
   "source": [
    "df_train.columns"
   ]
  },
  {
   "cell_type": "code",
   "execution_count": 31,
   "metadata": {},
   "outputs": [],
   "source": [
    "# drop the redudent columns (R auto-created an index column of its own)\n",
    "df_train = df_train.drop(columns='Unnamed: 0')\n",
    "df_test = df_test.drop(columns='Unnamed: 0')"
   ]
  },
  {
   "cell_type": "code",
   "execution_count": 35,
   "metadata": {},
   "outputs": [
    {
     "data": {
      "text/html": [
       "<div>\n",
       "<style scoped>\n",
       "    .dataframe tbody tr th:only-of-type {\n",
       "        vertical-align: middle;\n",
       "    }\n",
       "\n",
       "    .dataframe tbody tr th {\n",
       "        vertical-align: top;\n",
       "    }\n",
       "\n",
       "    .dataframe thead th {\n",
       "        text-align: right;\n",
       "    }\n",
       "</style>\n",
       "<table border=\"1\" class=\"dataframe\">\n",
       "  <thead>\n",
       "    <tr style=\"text-align: right;\">\n",
       "      <th></th>\n",
       "      <th>Y_HighGradeCancer</th>\n",
       "      <th>PSALevel</th>\n",
       "      <th>CancerVol</th>\n",
       "      <th>Weight</th>\n",
       "      <th>Age</th>\n",
       "      <th>BenignProstaticHyperplasia</th>\n",
       "      <th>SeminalVesicleInvasion</th>\n",
       "      <th>CapsularPenetration</th>\n",
       "    </tr>\n",
       "    <tr>\n",
       "      <th>Obs</th>\n",
       "      <th></th>\n",
       "      <th></th>\n",
       "      <th></th>\n",
       "      <th></th>\n",
       "      <th></th>\n",
       "      <th></th>\n",
       "      <th></th>\n",
       "      <th></th>\n",
       "    </tr>\n",
       "  </thead>\n",
       "  <tbody>\n",
       "    <tr>\n",
       "      <td>1</td>\n",
       "      <td>0</td>\n",
       "      <td>-2.533700</td>\n",
       "      <td>-1.645747</td>\n",
       "      <td>-0.649508</td>\n",
       "      <td>-1.872101</td>\n",
       "      <td>-0.840562</td>\n",
       "      <td>0</td>\n",
       "      <td>-0.596573</td>\n",
       "    </tr>\n",
       "    <tr>\n",
       "      <td>2</td>\n",
       "      <td>0</td>\n",
       "      <td>-2.299250</td>\n",
       "      <td>-1.995368</td>\n",
       "      <td>-0.392167</td>\n",
       "      <td>-0.791989</td>\n",
       "      <td>-0.840562</td>\n",
       "      <td>0</td>\n",
       "      <td>-0.596573</td>\n",
       "    </tr>\n",
       "    <tr>\n",
       "      <td>3</td>\n",
       "      <td>0</td>\n",
       "      <td>-2.299250</td>\n",
       "      <td>-1.586043</td>\n",
       "      <td>-0.676493</td>\n",
       "      <td>1.368234</td>\n",
       "      <td>-0.840562</td>\n",
       "      <td>0</td>\n",
       "      <td>-0.596573</td>\n",
       "    </tr>\n",
       "    <tr>\n",
       "      <td>4</td>\n",
       "      <td>0</td>\n",
       "      <td>-2.299250</td>\n",
       "      <td>-2.174506</td>\n",
       "      <td>-0.416007</td>\n",
       "      <td>-0.791989</td>\n",
       "      <td>-0.840562</td>\n",
       "      <td>0</td>\n",
       "      <td>-0.596573</td>\n",
       "    </tr>\n",
       "    <tr>\n",
       "      <td>6</td>\n",
       "      <td>0</td>\n",
       "      <td>-1.488689</td>\n",
       "      <td>-2.046685</td>\n",
       "      <td>-0.444510</td>\n",
       "      <td>-1.872101</td>\n",
       "      <td>-0.840562</td>\n",
       "      <td>0</td>\n",
       "      <td>-0.596573</td>\n",
       "    </tr>\n",
       "  </tbody>\n",
       "</table>\n",
       "</div>"
      ],
      "text/plain": [
       "     Y_HighGradeCancer  PSALevel  CancerVol    Weight       Age  \\\n",
       "Obs                                                               \n",
       "1                    0 -2.533700  -1.645747 -0.649508 -1.872101   \n",
       "2                    0 -2.299250  -1.995368 -0.392167 -0.791989   \n",
       "3                    0 -2.299250  -1.586043 -0.676493  1.368234   \n",
       "4                    0 -2.299250  -2.174506 -0.416007 -0.791989   \n",
       "6                    0 -1.488689  -2.046685 -0.444510 -1.872101   \n",
       "\n",
       "     BenignProstaticHyperplasia  SeminalVesicleInvasion  CapsularPenetration  \n",
       "Obs                                                                           \n",
       "1                     -0.840562                       0            -0.596573  \n",
       "2                     -0.840562                       0            -0.596573  \n",
       "3                     -0.840562                       0            -0.596573  \n",
       "4                     -0.840562                       0            -0.596573  \n",
       "6                     -0.840562                       0            -0.596573  "
      ]
     },
     "execution_count": 35,
     "metadata": {},
     "output_type": "execute_result"
    }
   ],
   "source": [
    "# examine train set\n",
    "df_train.head()"
   ]
  },
  {
   "cell_type": "code",
   "execution_count": 33,
   "metadata": {},
   "outputs": [
    {
     "data": {
      "text/html": [
       "<div>\n",
       "<style scoped>\n",
       "    .dataframe tbody tr th:only-of-type {\n",
       "        vertical-align: middle;\n",
       "    }\n",
       "\n",
       "    .dataframe tbody tr th {\n",
       "        vertical-align: top;\n",
       "    }\n",
       "\n",
       "    .dataframe thead th {\n",
       "        text-align: right;\n",
       "    }\n",
       "</style>\n",
       "<table border=\"1\" class=\"dataframe\">\n",
       "  <thead>\n",
       "    <tr style=\"text-align: right;\">\n",
       "      <th></th>\n",
       "      <th>Y_HighGradeCancer</th>\n",
       "      <th>PSALevel</th>\n",
       "      <th>CancerVol</th>\n",
       "      <th>Weight</th>\n",
       "      <th>Age</th>\n",
       "      <th>BenignProstaticHyperplasia</th>\n",
       "      <th>SeminalVesicleInvasion</th>\n",
       "      <th>CapsularPenetration</th>\n",
       "    </tr>\n",
       "    <tr>\n",
       "      <th>Obs</th>\n",
       "      <th></th>\n",
       "      <th></th>\n",
       "      <th></th>\n",
       "      <th></th>\n",
       "      <th></th>\n",
       "      <th></th>\n",
       "      <th></th>\n",
       "      <th></th>\n",
       "    </tr>\n",
       "  </thead>\n",
       "  <tbody>\n",
       "    <tr>\n",
       "      <td>5</td>\n",
       "      <td>0</td>\n",
       "      <td>-1.837148</td>\n",
       "      <td>-0.511447</td>\n",
       "      <td>-0.321415</td>\n",
       "      <td>-0.251933</td>\n",
       "      <td>-0.840562</td>\n",
       "      <td>0</td>\n",
       "      <td>-0.596573</td>\n",
       "    </tr>\n",
       "    <tr>\n",
       "      <td>8</td>\n",
       "      <td>0</td>\n",
       "      <td>-1.418947</td>\n",
       "      <td>-0.562625</td>\n",
       "      <td>-0.242460</td>\n",
       "      <td>-0.791989</td>\n",
       "      <td>0.706307</td>\n",
       "      <td>0</td>\n",
       "      <td>-0.596573</td>\n",
       "    </tr>\n",
       "    <tr>\n",
       "      <td>14</td>\n",
       "      <td>0</td>\n",
       "      <td>-0.983519</td>\n",
       "      <td>0.111131</td>\n",
       "      <td>-0.558742</td>\n",
       "      <td>0.423137</td>\n",
       "      <td>-0.840562</td>\n",
       "      <td>0</td>\n",
       "      <td>-0.596573</td>\n",
       "    </tr>\n",
       "    <tr>\n",
       "      <td>17</td>\n",
       "      <td>0</td>\n",
       "      <td>-0.878912</td>\n",
       "      <td>-1.509353</td>\n",
       "      <td>-0.257481</td>\n",
       "      <td>0.828178</td>\n",
       "      <td>0.305380</td>\n",
       "      <td>0</td>\n",
       "      <td>-0.450762</td>\n",
       "    </tr>\n",
       "    <tr>\n",
       "      <td>23</td>\n",
       "      <td>0</td>\n",
       "      <td>-0.678455</td>\n",
       "      <td>-1.611706</td>\n",
       "      <td>-0.354536</td>\n",
       "      <td>-0.656975</td>\n",
       "      <td>-0.691566</td>\n",
       "      <td>0</td>\n",
       "      <td>-0.596573</td>\n",
       "    </tr>\n",
       "  </tbody>\n",
       "</table>\n",
       "</div>"
      ],
      "text/plain": [
       "     Y_HighGradeCancer  PSALevel  CancerVol    Weight       Age  \\\n",
       "Obs                                                               \n",
       "5                    0 -1.837148  -0.511447 -0.321415 -0.251933   \n",
       "8                    0 -1.418947  -0.562625 -0.242460 -0.791989   \n",
       "14                   0 -0.983519   0.111131 -0.558742  0.423137   \n",
       "17                   0 -0.878912  -1.509353 -0.257481  0.828178   \n",
       "23                   0 -0.678455  -1.611706 -0.354536 -0.656975   \n",
       "\n",
       "     BenignProstaticHyperplasia  SeminalVesicleInvasion  CapsularPenetration  \n",
       "Obs                                                                           \n",
       "5                     -0.840562                       0            -0.596573  \n",
       "8                      0.706307                       0            -0.596573  \n",
       "14                    -0.840562                       0            -0.596573  \n",
       "17                     0.305380                       0            -0.450762  \n",
       "23                    -0.691566                       0            -0.596573  "
      ]
     },
     "execution_count": 33,
     "metadata": {},
     "output_type": "execute_result"
    }
   ],
   "source": [
    "# examine test set\n",
    "df_test.head()"
   ]
  },
  {
   "cell_type": "code",
   "execution_count": 37,
   "metadata": {
    "scrolled": true
   },
   "outputs": [
    {
     "data": {
      "text/plain": [
       "['PSALevel', 'CancerVol', 'Age']"
      ]
     },
     "execution_count": 37,
     "metadata": {},
     "output_type": "execute_result"
    }
   ],
   "source": [
    "# create a list which capture fields to ommit from model\n",
    "skip = ['Y_HighGradeCancer', 'Weight', 'BenignProstaticHyperplasia', \n",
    "        'SeminalVesicleInvasion', 'CapsularPenetration'\n",
    "       ]\n",
    "cols_model = [col for col in df_train.columns if col not in skip]\n",
    "cols_model"
   ]
  },
  {
   "cell_type": "markdown",
   "metadata": {},
   "source": [
    "## Data Preperation"
   ]
  },
  {
   "cell_type": "code",
   "execution_count": 245,
   "metadata": {},
   "outputs": [],
   "source": [
    "X_model = df.loc[:, cols_model]\n",
    "y = df['Y_HighGradeCancer']"
   ]
  },
  {
   "cell_type": "code",
   "execution_count": 246,
   "metadata": {},
   "outputs": [
    {
     "name": "stdout",
     "output_type": "stream",
     "text": [
      "(97, 2) (97,)\n"
     ]
    }
   ],
   "source": [
    "print(X_model.shape, y.shape)"
   ]
  },
  {
   "cell_type": "code",
   "execution_count": 247,
   "metadata": {},
   "outputs": [
    {
     "name": "stdout",
     "output_type": "stream",
     "text": [
      "(87, 2) (87,)\n",
      "(10, 2) (10,)\n"
     ]
    }
   ],
   "source": [
    "# train-test split\n",
    "from sklearn.model_selection import train_test_split\n",
    "X_train, X_test, y_train, y_test = train_test_split(X_model, y, test_size=0.1, random_state=0)\n",
    "print(X_train.shape, y_train.shape)\n",
    "print(X_test.shape, y_test.shape)"
   ]
  },
  {
   "cell_type": "code",
   "execution_count": 248,
   "metadata": {},
   "outputs": [
    {
     "name": "stdout",
     "output_type": "stream",
     "text": [
      "Mean y in train set: 0.218\n",
      "Mean y in test set: 0.2\n"
     ]
    }
   ],
   "source": [
    "# average survival in train and test sets\n",
    "print(f'Mean y in train set: {round(np.mean(y_train), 3)}')\n",
    "print(f'Mean y in test set: {round(np.mean(y_test), 3)}')"
   ]
  },
  {
   "cell_type": "markdown",
   "metadata": {},
   "source": [
    "## Baseline Model"
   ]
  },
  {
   "cell_type": "code",
   "execution_count": 213,
   "metadata": {},
   "outputs": [],
   "source": [
    "# import function\n",
    "from sklearn.dummy import DummyClassifier"
   ]
  },
  {
   "cell_type": "code",
   "execution_count": 214,
   "metadata": {},
   "outputs": [],
   "source": [
    "# create model\n",
    "# because mean y in train = 0.234 (shown above), this \"most frequent\" model will predict y=0 for all test observations\n",
    "model_dummy = DummyClassifier(strategy='most_frequent', random_state=0)"
   ]
  },
  {
   "cell_type": "code",
   "execution_count": 215,
   "metadata": {},
   "outputs": [
    {
     "data": {
      "text/plain": [
       "DummyClassifier(constant=None, random_state=0, strategy='most_frequent')"
      ]
     },
     "execution_count": 215,
     "metadata": {},
     "output_type": "execute_result"
    }
   ],
   "source": [
    "# train model\n",
    "model_dummy.fit(X_train, y_train)"
   ]
  },
  {
   "cell_type": "code",
   "execution_count": 216,
   "metadata": {},
   "outputs": [
    {
     "name": "stdout",
     "output_type": "stream",
     "text": [
      "Score for baseline model: 0.8\n"
     ]
    }
   ],
   "source": [
    "print(f'Score for baseline model: {round(model_dummy.score(X_test, y_test), 2)}')"
   ]
  },
  {
   "cell_type": "code",
   "execution_count": 217,
   "metadata": {},
   "outputs": [
    {
     "data": {
      "text/plain": [
       "array([0, 0, 0, 0, 0, 0, 0, 0, 0, 0], dtype=int64)"
      ]
     },
     "execution_count": 217,
     "metadata": {},
     "output_type": "execute_result"
    }
   ],
   "source": [
    "model_dummy.predict(X_test)"
   ]
  },
  {
   "cell_type": "code",
   "execution_count": 218,
   "metadata": {},
   "outputs": [],
   "source": [
    "# performance metrics\n",
    "from sklearn.metrics import accuracy_score, confusion_matrix, precision_score, recall_score"
   ]
  },
  {
   "cell_type": "code",
   "execution_count": 219,
   "metadata": {},
   "outputs": [
    {
     "name": "stdout",
     "output_type": "stream",
     "text": [
      "Confusion matrix for baseline model: \n",
      " [[8 0]\n",
      " [2 0]]\n"
     ]
    }
   ],
   "source": [
    "# confusion matrix\n",
    "print(f'Confusion matrix for baseline model: \\n {confusion_matrix(y_test, model_dummy.predict(X_test))}')"
   ]
  },
  {
   "cell_type": "code",
   "execution_count": 220,
   "metadata": {},
   "outputs": [
    {
     "name": "stdout",
     "output_type": "stream",
     "text": [
      "Precision for baseline model: 0.0\n",
      "Recall for baseline model: 0.0\n"
     ]
    },
    {
     "name": "stderr",
     "output_type": "stream",
     "text": [
      "C:\\Users\\jaosi\\Anaconda3\\envs\\datSci\\lib\\site-packages\\sklearn\\metrics\\classification.py:1437: UndefinedMetricWarning: Precision is ill-defined and being set to 0.0 due to no predicted samples.\n",
      "  'precision', 'predicted', average, warn_for)\n"
     ]
    }
   ],
   "source": [
    "# precision and recall scores\n",
    "print(f'Precision for baseline model: {round(precision_score(y_test, model_dummy.predict(X_test)), 2)}')\n",
    "print(f'Recall for baseline model: {round(recall_score(y_test, model_dummy.predict(X_test)), 2)}')"
   ]
  },
  {
   "cell_type": "markdown",
   "metadata": {},
   "source": [
    "## Logistic Regression Model"
   ]
  },
  {
   "cell_type": "code",
   "execution_count": 221,
   "metadata": {},
   "outputs": [],
   "source": [
    "# import function\n",
    "from sklearn.linear_model import LogisticRegression"
   ]
  },
  {
   "cell_type": "code",
   "execution_count": 222,
   "metadata": {},
   "outputs": [],
   "source": [
    "# create model\n",
    "model_lr_1 = LogisticRegression(random_state=0)"
   ]
  },
  {
   "cell_type": "code",
   "execution_count": 223,
   "metadata": {},
   "outputs": [
    {
     "name": "stderr",
     "output_type": "stream",
     "text": [
      "C:\\Users\\jaosi\\Anaconda3\\envs\\datSci\\lib\\site-packages\\sklearn\\linear_model\\logistic.py:432: FutureWarning: Default solver will be changed to 'lbfgs' in 0.22. Specify a solver to silence this warning.\n",
      "  FutureWarning)\n"
     ]
    },
    {
     "data": {
      "text/plain": [
       "LogisticRegression(C=1.0, class_weight=None, dual=False, fit_intercept=True,\n",
       "                   intercept_scaling=1, l1_ratio=None, max_iter=100,\n",
       "                   multi_class='warn', n_jobs=None, penalty='l2',\n",
       "                   random_state=0, solver='warn', tol=0.0001, verbose=0,\n",
       "                   warm_start=False)"
      ]
     },
     "execution_count": 223,
     "metadata": {},
     "output_type": "execute_result"
    }
   ],
   "source": [
    "# train model\n",
    "model_lr_1.fit(X_train, y_train)"
   ]
  },
  {
   "cell_type": "code",
   "execution_count": 224,
   "metadata": {},
   "outputs": [
    {
     "name": "stdout",
     "output_type": "stream",
     "text": [
      "Score for logistic regression - version 1: 0.9\n"
     ]
    }
   ],
   "source": [
    "# evaluate model\n",
    "print(f'Score for logistic regression - version 1: {round(model_lr_1.score(X_test, y_test), 4)}')"
   ]
  },
  {
   "cell_type": "code",
   "execution_count": 225,
   "metadata": {},
   "outputs": [
    {
     "name": "stdout",
     "output_type": "stream",
     "text": [
      "Intercept coefficient is: [-0.6957814]\n",
      "Slope coefficients are: [[-0.6957814   1.08641739  0.94667516]]\n"
     ]
    }
   ],
   "source": [
    "print(f'Intercept coefficient is: {model_lr_1.intercept_}')\n",
    "print(f'Slope coefficients are: {model_lr_1.coef_}')"
   ]
  },
  {
   "cell_type": "code",
   "execution_count": 226,
   "metadata": {},
   "outputs": [
    {
     "data": {
      "text/plain": [
       "array([0, 0, 0, 0, 0, 0, 0, 0, 1, 0], dtype=int64)"
      ]
     },
     "execution_count": 226,
     "metadata": {},
     "output_type": "execute_result"
    }
   ],
   "source": [
    "model_lr_1.predict(X_test)"
   ]
  },
  {
   "cell_type": "code",
   "execution_count": 227,
   "metadata": {},
   "outputs": [
    {
     "data": {
      "text/plain": [
       "Obs\n",
       "27    0\n",
       "85    1\n",
       "3     0\n",
       "56    0\n",
       "69    0\n",
       "82    0\n",
       "17    0\n",
       "79    0\n",
       "55    1\n",
       "67    0\n",
       "Name: Y_HighGradeCancer, dtype: int64"
      ]
     },
     "execution_count": 227,
     "metadata": {},
     "output_type": "execute_result"
    }
   ],
   "source": [
    "y_test"
   ]
  },
  {
   "cell_type": "code",
   "execution_count": 228,
   "metadata": {},
   "outputs": [
    {
     "data": {
      "text/plain": [
       "Obs\n",
       "27     True\n",
       "85    False\n",
       "3      True\n",
       "56     True\n",
       "69     True\n",
       "82     True\n",
       "17     True\n",
       "79     True\n",
       "55     True\n",
       "67     True\n",
       "Name: Y_HighGradeCancer, dtype: bool"
      ]
     },
     "execution_count": 228,
     "metadata": {},
     "output_type": "execute_result"
    }
   ],
   "source": [
    "model_lr_1.predict(X_test) == y_test"
   ]
  },
  {
   "cell_type": "markdown",
   "metadata": {},
   "source": [
    "## STATSMODELS Library"
   ]
  },
  {
   "cell_type": "markdown",
   "metadata": {},
   "source": [
    "### Full Logistics Model"
   ]
  },
  {
   "cell_type": "code",
   "execution_count": 229,
   "metadata": {},
   "outputs": [],
   "source": [
    "import statsmodels.api as sm"
   ]
  },
  {
   "cell_type": "code",
   "execution_count": 249,
   "metadata": {},
   "outputs": [],
   "source": [
    "X_model = sm.add_constant(X_model)\n",
    "model = sm.Logit(y, X_model)"
   ]
  },
  {
   "cell_type": "code",
   "execution_count": 250,
   "metadata": {},
   "outputs": [
    {
     "name": "stdout",
     "output_type": "stream",
     "text": [
      "Optimization terminated successfully.\n",
      "         Current function value: 0.353732\n",
      "         Iterations 7\n"
     ]
    }
   ],
   "source": [
    "results = model.fit()"
   ]
  },
  {
   "cell_type": "code",
   "execution_count": 251,
   "metadata": {},
   "outputs": [
    {
     "name": "stdout",
     "output_type": "stream",
     "text": [
      "                          Results: Logit\n",
      "==================================================================\n",
      "Model:              Logit             Pseudo R-squared: 0.323     \n",
      "Dependent Variable: Y_HighGradeCancer AIC:              74.6239   \n",
      "Date:               2020-10-08 00:46  BIC:              82.3481   \n",
      "No. Observations:   97                Log-Likelihood:   -34.312   \n",
      "Df Model:           2                 LL-Null:          -50.676   \n",
      "Df Residuals:       94                LLR p-value:      7.8177e-08\n",
      "Converged:          1.0000            Scale:            1.0000    \n",
      "No. Iterations:     7.0000                                        \n",
      "--------------------------------------------------------------------\n",
      "            Coef.    Std.Err.      z      P>|z|     [0.05     0.95] \n",
      "--------------------------------------------------------------------\n",
      "const      -1.4285     0.3407   -4.1932   0.0000   -1.9889   -0.8682\n",
      "PSALevel    2.7969     0.7660    3.6513   0.0003    1.5369    4.0568\n",
      "Age         0.6828     0.3803    1.7954   0.0726    0.0573    1.3084\n",
      "==================================================================\n",
      "\n"
     ]
    }
   ],
   "source": [
    "### full model statistical output\n",
    "print(results.summary2(alpha=0.10))"
   ]
  }
 ],
 "metadata": {
  "kernelspec": {
   "display_name": "Python 3",
   "language": "python",
   "name": "python3"
  },
  "language_info": {
   "codemirror_mode": {
    "name": "ipython",
    "version": 3
   },
   "file_extension": ".py",
   "mimetype": "text/x-python",
   "name": "python",
   "nbconvert_exporter": "python",
   "pygments_lexer": "ipython3",
   "version": "3.7.4"
  }
 },
 "nbformat": 4,
 "nbformat_minor": 2
}
