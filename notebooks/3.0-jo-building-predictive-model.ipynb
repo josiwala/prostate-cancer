{
 "cells": [
  {
   "cell_type": "markdown",
   "metadata": {},
   "source": [
    "# Building Predictive Models"
   ]
  },
  {
   "cell_type": "code",
   "execution_count": 1,
   "metadata": {},
   "outputs": [],
   "source": [
    "import os\n",
    "import pandas as pd\n",
    "import numpy as np\n",
    "import sklearn"
   ]
  },
  {
   "cell_type": "markdown",
   "metadata": {},
   "source": [
    "## Import Data"
   ]
  },
  {
   "cell_type": "markdown",
   "metadata": {},
   "source": [
    "Train and test data were randomly split within R, using 0.80 ratio.\n",
    "<br>The two dataframes were written to independent csv files, and will be brought into the Python notebook now."
   ]
  },
  {
   "cell_type": "code",
   "execution_count": 2,
   "metadata": {},
   "outputs": [],
   "source": [
    "# set path to processed train/test data\n",
    "processed_data_path = os.path.join(os.path.pardir, 'data', 'processed')\n",
    "train_file_path = os.path.join(processed_data_path, 'train.txt')\n",
    "test_file_path = os.path.join(processed_data_path, 'test.txt')"
   ]
  },
  {
   "cell_type": "code",
   "execution_count": 3,
   "metadata": {},
   "outputs": [],
   "source": [
    "df_train = pd.read_csv(train_file_path, index_col='Obs')\n",
    "df_test = pd.read_csv(test_file_path, index_col='Obs')"
   ]
  },
  {
   "cell_type": "code",
   "execution_count": 4,
   "metadata": {},
   "outputs": [
    {
     "name": "stdout",
     "output_type": "stream",
     "text": [
      "Train data:\n",
      "<class 'pandas.core.frame.DataFrame'>\n",
      "Int64Index: 76 entries, 1 to 97\n",
      "Data columns (total 9 columns):\n",
      "Unnamed: 0                    76 non-null int64\n",
      "Y_HighGradeCancer             76 non-null int64\n",
      "PSALevel                      76 non-null float64\n",
      "CancerVol                     76 non-null float64\n",
      "Weight                        76 non-null float64\n",
      "Age                           76 non-null float64\n",
      "BenignProstaticHyperplasia    76 non-null float64\n",
      "SeminalVesicleInvasion        76 non-null int64\n",
      "CapsularPenetration           76 non-null float64\n",
      "dtypes: float64(6), int64(3)\n",
      "memory usage: 5.9 KB\n",
      "\n",
      "\n",
      "Test data:\n",
      "<class 'pandas.core.frame.DataFrame'>\n",
      "Int64Index: 21 entries, 5 to 95\n",
      "Data columns (total 9 columns):\n",
      "Unnamed: 0                    21 non-null int64\n",
      "Y_HighGradeCancer             21 non-null int64\n",
      "PSALevel                      21 non-null float64\n",
      "CancerVol                     21 non-null float64\n",
      "Weight                        21 non-null float64\n",
      "Age                           21 non-null float64\n",
      "BenignProstaticHyperplasia    21 non-null float64\n",
      "SeminalVesicleInvasion        21 non-null int64\n",
      "CapsularPenetration           21 non-null float64\n",
      "dtypes: float64(6), int64(3)\n",
      "memory usage: 1.6 KB\n"
     ]
    }
   ],
   "source": [
    "print('Train data:')\n",
    "df_train.info()\n",
    "print('\\n')\n",
    "print('Test data:')\n",
    "df_test.info()"
   ]
  },
  {
   "cell_type": "code",
   "execution_count": 5,
   "metadata": {},
   "outputs": [
    {
     "data": {
      "text/plain": [
       "Index(['Unnamed: 0', 'Y_HighGradeCancer', 'PSALevel', 'CancerVol', 'Weight',\n",
       "       'Age', 'BenignProstaticHyperplasia', 'SeminalVesicleInvasion',\n",
       "       'CapsularPenetration'],\n",
       "      dtype='object')"
      ]
     },
     "execution_count": 5,
     "metadata": {},
     "output_type": "execute_result"
    }
   ],
   "source": [
    "df_train.columns"
   ]
  },
  {
   "cell_type": "markdown",
   "metadata": {},
   "source": [
    "It looks like R appended an additional \"Unnamed: 0\" column, most likely related to indexing.<br>\n",
    "I will remove that now."
   ]
  },
  {
   "cell_type": "code",
   "execution_count": 6,
   "metadata": {},
   "outputs": [],
   "source": [
    "# drop the redudent columns (R auto-created an index column of its own); can be seen in info() cell above\n",
    "df_train = df_train.drop(columns='Unnamed: 0')\n",
    "df_test = df_test.drop(columns='Unnamed: 0')"
   ]
  },
  {
   "cell_type": "code",
   "execution_count": 7,
   "metadata": {},
   "outputs": [
    {
     "data": {
      "text/html": [
       "<div>\n",
       "<style scoped>\n",
       "    .dataframe tbody tr th:only-of-type {\n",
       "        vertical-align: middle;\n",
       "    }\n",
       "\n",
       "    .dataframe tbody tr th {\n",
       "        vertical-align: top;\n",
       "    }\n",
       "\n",
       "    .dataframe thead th {\n",
       "        text-align: right;\n",
       "    }\n",
       "</style>\n",
       "<table border=\"1\" class=\"dataframe\">\n",
       "  <thead>\n",
       "    <tr style=\"text-align: right;\">\n",
       "      <th></th>\n",
       "      <th>Y_HighGradeCancer</th>\n",
       "      <th>PSALevel</th>\n",
       "      <th>CancerVol</th>\n",
       "      <th>Weight</th>\n",
       "      <th>Age</th>\n",
       "      <th>BenignProstaticHyperplasia</th>\n",
       "      <th>SeminalVesicleInvasion</th>\n",
       "      <th>CapsularPenetration</th>\n",
       "    </tr>\n",
       "    <tr>\n",
       "      <th>Obs</th>\n",
       "      <th></th>\n",
       "      <th></th>\n",
       "      <th></th>\n",
       "      <th></th>\n",
       "      <th></th>\n",
       "      <th></th>\n",
       "      <th></th>\n",
       "      <th></th>\n",
       "    </tr>\n",
       "  </thead>\n",
       "  <tbody>\n",
       "    <tr>\n",
       "      <td>1</td>\n",
       "      <td>0</td>\n",
       "      <td>-2.533700</td>\n",
       "      <td>-1.645747</td>\n",
       "      <td>-1.785921</td>\n",
       "      <td>-1.872101</td>\n",
       "      <td>-0.840562</td>\n",
       "      <td>0</td>\n",
       "      <td>-0.596573</td>\n",
       "    </tr>\n",
       "    <tr>\n",
       "      <td>2</td>\n",
       "      <td>0</td>\n",
       "      <td>-2.299250</td>\n",
       "      <td>-1.995368</td>\n",
       "      <td>-0.673281</td>\n",
       "      <td>-0.791989</td>\n",
       "      <td>-0.840562</td>\n",
       "      <td>0</td>\n",
       "      <td>-0.596573</td>\n",
       "    </tr>\n",
       "    <tr>\n",
       "      <td>3</td>\n",
       "      <td>0</td>\n",
       "      <td>-2.299250</td>\n",
       "      <td>-1.586043</td>\n",
       "      <td>-1.947772</td>\n",
       "      <td>1.368234</td>\n",
       "      <td>-0.840562</td>\n",
       "      <td>0</td>\n",
       "      <td>-0.596573</td>\n",
       "    </tr>\n",
       "    <tr>\n",
       "      <td>4</td>\n",
       "      <td>0</td>\n",
       "      <td>-2.299250</td>\n",
       "      <td>-2.174506</td>\n",
       "      <td>-0.754163</td>\n",
       "      <td>-0.791989</td>\n",
       "      <td>-0.840562</td>\n",
       "      <td>0</td>\n",
       "      <td>-0.596573</td>\n",
       "    </tr>\n",
       "    <tr>\n",
       "      <td>6</td>\n",
       "      <td>0</td>\n",
       "      <td>-1.488689</td>\n",
       "      <td>-2.046685</td>\n",
       "      <td>-0.855308</td>\n",
       "      <td>-1.872101</td>\n",
       "      <td>-0.840562</td>\n",
       "      <td>0</td>\n",
       "      <td>-0.596573</td>\n",
       "    </tr>\n",
       "    <tr>\n",
       "      <td>...</td>\n",
       "      <td>...</td>\n",
       "      <td>...</td>\n",
       "      <td>...</td>\n",
       "      <td>...</td>\n",
       "      <td>...</td>\n",
       "      <td>...</td>\n",
       "      <td>...</td>\n",
       "      <td>...</td>\n",
       "    </tr>\n",
       "    <tr>\n",
       "      <td>92</td>\n",
       "      <td>0</td>\n",
       "      <td>1.438825</td>\n",
       "      <td>1.006641</td>\n",
       "      <td>0.055045</td>\n",
       "      <td>-0.386947</td>\n",
       "      <td>0.438624</td>\n",
       "      <td>1</td>\n",
       "      <td>-0.596573</td>\n",
       "    </tr>\n",
       "    <tr>\n",
       "      <td>93</td>\n",
       "      <td>1</td>\n",
       "      <td>1.665361</td>\n",
       "      <td>1.262501</td>\n",
       "      <td>0.459679</td>\n",
       "      <td>0.558151</td>\n",
       "      <td>-0.840562</td>\n",
       "      <td>1</td>\n",
       "      <td>0.398013</td>\n",
       "    </tr>\n",
       "    <tr>\n",
       "      <td>94</td>\n",
       "      <td>1</td>\n",
       "      <td>1.918045</td>\n",
       "      <td>2.106830</td>\n",
       "      <td>0.500132</td>\n",
       "      <td>-2.682185</td>\n",
       "      <td>-0.840562</td>\n",
       "      <td>1</td>\n",
       "      <td>1.730425</td>\n",
       "    </tr>\n",
       "    <tr>\n",
       "      <td>96</td>\n",
       "      <td>1</td>\n",
       "      <td>2.615096</td>\n",
       "      <td>1.305144</td>\n",
       "      <td>0.237142</td>\n",
       "      <td>0.558151</td>\n",
       "      <td>0.737545</td>\n",
       "      <td>1</td>\n",
       "      <td>0.667795</td>\n",
       "    </tr>\n",
       "    <tr>\n",
       "      <td>97</td>\n",
       "      <td>1</td>\n",
       "      <td>2.702227</td>\n",
       "      <td>1.808328</td>\n",
       "      <td>0.641786</td>\n",
       "      <td>0.558151</td>\n",
       "      <td>-0.325658</td>\n",
       "      <td>1</td>\n",
       "      <td>4.232114</td>\n",
       "    </tr>\n",
       "  </tbody>\n",
       "</table>\n",
       "<p>76 rows × 8 columns</p>\n",
       "</div>"
      ],
      "text/plain": [
       "     Y_HighGradeCancer  PSALevel  CancerVol    Weight       Age  \\\n",
       "Obs                                                               \n",
       "1                    0 -2.533700  -1.645747 -1.785921 -1.872101   \n",
       "2                    0 -2.299250  -1.995368 -0.673281 -0.791989   \n",
       "3                    0 -2.299250  -1.586043 -1.947772  1.368234   \n",
       "4                    0 -2.299250  -2.174506 -0.754163 -0.791989   \n",
       "6                    0 -1.488689  -2.046685 -0.855308 -1.872101   \n",
       "..                 ...       ...        ...       ...       ...   \n",
       "92                   0  1.438825   1.006641  0.055045 -0.386947   \n",
       "93                   1  1.665361   1.262501  0.459679  0.558151   \n",
       "94                   1  1.918045   2.106830  0.500132 -2.682185   \n",
       "96                   1  2.615096   1.305144  0.237142  0.558151   \n",
       "97                   1  2.702227   1.808328  0.641786  0.558151   \n",
       "\n",
       "     BenignProstaticHyperplasia  SeminalVesicleInvasion  CapsularPenetration  \n",
       "Obs                                                                           \n",
       "1                     -0.840562                       0            -0.596573  \n",
       "2                     -0.840562                       0            -0.596573  \n",
       "3                     -0.840562                       0            -0.596573  \n",
       "4                     -0.840562                       0            -0.596573  \n",
       "6                     -0.840562                       0            -0.596573  \n",
       "..                          ...                     ...                  ...  \n",
       "92                     0.438624                       1            -0.596573  \n",
       "93                    -0.840562                       1             0.398013  \n",
       "94                    -0.840562                       1             1.730425  \n",
       "96                     0.737545                       1             0.667795  \n",
       "97                    -0.325658                       1             4.232114  \n",
       "\n",
       "[76 rows x 8 columns]"
      ]
     },
     "execution_count": 7,
     "metadata": {},
     "output_type": "execute_result"
    }
   ],
   "source": [
    "# examine train set\n",
    "df_train"
   ]
  },
  {
   "cell_type": "code",
   "execution_count": 8,
   "metadata": {},
   "outputs": [
    {
     "data": {
      "text/html": [
       "<div>\n",
       "<style scoped>\n",
       "    .dataframe tbody tr th:only-of-type {\n",
       "        vertical-align: middle;\n",
       "    }\n",
       "\n",
       "    .dataframe tbody tr th {\n",
       "        vertical-align: top;\n",
       "    }\n",
       "\n",
       "    .dataframe thead th {\n",
       "        text-align: right;\n",
       "    }\n",
       "</style>\n",
       "<table border=\"1\" class=\"dataframe\">\n",
       "  <thead>\n",
       "    <tr style=\"text-align: right;\">\n",
       "      <th></th>\n",
       "      <th>Y_HighGradeCancer</th>\n",
       "      <th>PSALevel</th>\n",
       "      <th>CancerVol</th>\n",
       "      <th>Weight</th>\n",
       "      <th>Age</th>\n",
       "      <th>BenignProstaticHyperplasia</th>\n",
       "      <th>SeminalVesicleInvasion</th>\n",
       "      <th>CapsularPenetration</th>\n",
       "    </tr>\n",
       "    <tr>\n",
       "      <th>Obs</th>\n",
       "      <th></th>\n",
       "      <th></th>\n",
       "      <th></th>\n",
       "      <th></th>\n",
       "      <th></th>\n",
       "      <th></th>\n",
       "      <th></th>\n",
       "      <th></th>\n",
       "    </tr>\n",
       "  </thead>\n",
       "  <tbody>\n",
       "    <tr>\n",
       "      <td>5</td>\n",
       "      <td>0</td>\n",
       "      <td>-1.837148</td>\n",
       "      <td>-0.511447</td>\n",
       "      <td>-0.450690</td>\n",
       "      <td>-0.251933</td>\n",
       "      <td>-0.840562</td>\n",
       "      <td>0</td>\n",
       "      <td>-0.596573</td>\n",
       "    </tr>\n",
       "    <tr>\n",
       "      <td>8</td>\n",
       "      <td>0</td>\n",
       "      <td>-1.418947</td>\n",
       "      <td>-0.562625</td>\n",
       "      <td>-0.228166</td>\n",
       "      <td>-0.791989</td>\n",
       "      <td>0.706307</td>\n",
       "      <td>0</td>\n",
       "      <td>-0.596573</td>\n",
       "    </tr>\n",
       "    <tr>\n",
       "      <td>14</td>\n",
       "      <td>0</td>\n",
       "      <td>-0.983519</td>\n",
       "      <td>0.111131</td>\n",
       "      <td>-1.320605</td>\n",
       "      <td>0.423137</td>\n",
       "      <td>-0.840562</td>\n",
       "      <td>0</td>\n",
       "      <td>-0.596573</td>\n",
       "    </tr>\n",
       "    <tr>\n",
       "      <td>17</td>\n",
       "      <td>0</td>\n",
       "      <td>-0.878912</td>\n",
       "      <td>-1.509353</td>\n",
       "      <td>-0.268658</td>\n",
       "      <td>0.828178</td>\n",
       "      <td>0.305380</td>\n",
       "      <td>0</td>\n",
       "      <td>-0.450762</td>\n",
       "    </tr>\n",
       "    <tr>\n",
       "      <td>23</td>\n",
       "      <td>0</td>\n",
       "      <td>-0.678455</td>\n",
       "      <td>-1.611706</td>\n",
       "      <td>-0.551853</td>\n",
       "      <td>-0.656975</td>\n",
       "      <td>-0.691566</td>\n",
       "      <td>0</td>\n",
       "      <td>-0.596573</td>\n",
       "    </tr>\n",
       "  </tbody>\n",
       "</table>\n",
       "</div>"
      ],
      "text/plain": [
       "     Y_HighGradeCancer  PSALevel  CancerVol    Weight       Age  \\\n",
       "Obs                                                               \n",
       "5                    0 -1.837148  -0.511447 -0.450690 -0.251933   \n",
       "8                    0 -1.418947  -0.562625 -0.228166 -0.791989   \n",
       "14                   0 -0.983519   0.111131 -1.320605  0.423137   \n",
       "17                   0 -0.878912  -1.509353 -0.268658  0.828178   \n",
       "23                   0 -0.678455  -1.611706 -0.551853 -0.656975   \n",
       "\n",
       "     BenignProstaticHyperplasia  SeminalVesicleInvasion  CapsularPenetration  \n",
       "Obs                                                                           \n",
       "5                     -0.840562                       0            -0.596573  \n",
       "8                      0.706307                       0            -0.596573  \n",
       "14                    -0.840562                       0            -0.596573  \n",
       "17                     0.305380                       0            -0.450762  \n",
       "23                    -0.691566                       0            -0.596573  "
      ]
     },
     "execution_count": 8,
     "metadata": {},
     "output_type": "execute_result"
    }
   ],
   "source": [
    "# examine test set\n",
    "df_test.head()"
   ]
  },
  {
   "cell_type": "code",
   "execution_count": 9,
   "metadata": {
    "scrolled": true
   },
   "outputs": [
    {
     "data": {
      "text/plain": [
       "['PSALevel', 'CancerVol']"
      ]
     },
     "execution_count": 9,
     "metadata": {},
     "output_type": "execute_result"
    }
   ],
   "source": [
    "# create a list which captures fields to ommit from model\n",
    "skip = ['Y_HighGradeCancer'\n",
    "        , 'Age'\n",
    "        , 'Weight'\n",
    "        , 'BenignProstaticHyperplasia'\n",
    "        , 'SeminalVesicleInvasion'\n",
    "        , 'CapsularPenetration'\n",
    "       ]\n",
    "cols_model = [col for col in df_train.columns if col not in skip]\n",
    "cols_model"
   ]
  },
  {
   "cell_type": "markdown",
   "metadata": {},
   "source": [
    "## Visuals"
   ]
  },
  {
   "cell_type": "code",
   "execution_count": 11,
   "metadata": {},
   "outputs": [
    {
     "data": {
      "image/png": "[encoded data removed]",
      "text/plain": [
       "<Figure size 432x288 with 1 Axes>"
      ]
     },
     "metadata": {
      "needs_background": "light"
     },
     "output_type": "display_data"
    }
   ],
   "source": [
    "df_train.plot.scatter(x='PSALevel', y='Y_HighGradeCancer');"
   ]
  },
  {
   "cell_type": "code",
   "execution_count": 12,
   "metadata": {},
   "outputs": [
    {
     "data": {
      "image/png": "[encoded data removed]",
      "text/plain": [
       "<Figure size 432x288 with 1 Axes>"
      ]
     },
     "metadata": {
      "needs_background": "light"
     },
     "output_type": "display_data"
    }
   ],
   "source": [
    "df_train.plot.scatter(x='CancerVol', y='Y_HighGradeCancer');"
   ]
  },
  {
   "cell_type": "code",
   "execution_count": 13,
   "metadata": {},
   "outputs": [
    {
     "data": {
      "image/png": "[encoded data removed]",
      "text/plain": [
       "<Figure size 720x720 with 4 Axes>"
      ]
     },
     "metadata": {
      "needs_background": "light"
     },
     "output_type": "display_data"
    }
   ],
   "source": [
    "# let's import searborn to help visualize the train data correlation matrix\n",
    "import seaborn as sns\n",
    "\n",
    "sns.clustermap(df_train.corr());"
   ]
  },
  {
   "cell_type": "code",
   "execution_count": 14,
   "metadata": {},
   "outputs": [
    {
     "data": {
      "text/html": [
       "<div>\n",
       "<style scoped>\n",
       "    .dataframe tbody tr th:only-of-type {\n",
       "        vertical-align: middle;\n",
       "    }\n",
       "\n",
       "    .dataframe tbody tr th {\n",
       "        vertical-align: top;\n",
       "    }\n",
       "\n",
       "    .dataframe thead th {\n",
       "        text-align: right;\n",
       "    }\n",
       "</style>\n",
       "<table border=\"1\" class=\"dataframe\">\n",
       "  <thead>\n",
       "    <tr style=\"text-align: right;\">\n",
       "      <th></th>\n",
       "      <th>Y_HighGradeCancer</th>\n",
       "      <th>PSALevel</th>\n",
       "      <th>CancerVol</th>\n",
       "      <th>Weight</th>\n",
       "      <th>Age</th>\n",
       "      <th>BenignProstaticHyperplasia</th>\n",
       "      <th>SeminalVesicleInvasion</th>\n",
       "      <th>CapsularPenetration</th>\n",
       "    </tr>\n",
       "  </thead>\n",
       "  <tbody>\n",
       "    <tr>\n",
       "      <td>Y_HighGradeCancer</td>\n",
       "      <td>1.000000</td>\n",
       "      <td>0.488609</td>\n",
       "      <td>0.492580</td>\n",
       "      <td>0.173835</td>\n",
       "      <td>0.196961</td>\n",
       "      <td>0.000539</td>\n",
       "      <td>0.420664</td>\n",
       "      <td>0.452185</td>\n",
       "    </tr>\n",
       "    <tr>\n",
       "      <td>PSALevel</td>\n",
       "      <td>0.488609</td>\n",
       "      <td>1.000000</td>\n",
       "      <td>0.737585</td>\n",
       "      <td>0.427753</td>\n",
       "      <td>0.217748</td>\n",
       "      <td>0.199778</td>\n",
       "      <td>0.550701</td>\n",
       "      <td>0.457590</td>\n",
       "    </tr>\n",
       "    <tr>\n",
       "      <td>CancerVol</td>\n",
       "      <td>0.492580</td>\n",
       "      <td>0.737585</td>\n",
       "      <td>1.000000</td>\n",
       "      <td>0.264202</td>\n",
       "      <td>0.274467</td>\n",
       "      <td>0.044290</td>\n",
       "      <td>0.515015</td>\n",
       "      <td>0.593430</td>\n",
       "    </tr>\n",
       "    <tr>\n",
       "      <td>Weight</td>\n",
       "      <td>0.173835</td>\n",
       "      <td>0.427753</td>\n",
       "      <td>0.264202</td>\n",
       "      <td>1.000000</td>\n",
       "      <td>0.350116</td>\n",
       "      <td>0.599560</td>\n",
       "      <td>0.148291</td>\n",
       "      <td>0.128845</td>\n",
       "    </tr>\n",
       "    <tr>\n",
       "      <td>Age</td>\n",
       "      <td>0.196961</td>\n",
       "      <td>0.217748</td>\n",
       "      <td>0.274467</td>\n",
       "      <td>0.350116</td>\n",
       "      <td>1.000000</td>\n",
       "      <td>0.344029</td>\n",
       "      <td>0.209401</td>\n",
       "      <td>0.183055</td>\n",
       "    </tr>\n",
       "    <tr>\n",
       "      <td>BenignProstaticHyperplasia</td>\n",
       "      <td>0.000539</td>\n",
       "      <td>0.199778</td>\n",
       "      <td>0.044290</td>\n",
       "      <td>0.599560</td>\n",
       "      <td>0.344029</td>\n",
       "      <td>1.000000</td>\n",
       "      <td>-0.082420</td>\n",
       "      <td>-0.035408</td>\n",
       "    </tr>\n",
       "    <tr>\n",
       "      <td>SeminalVesicleInvasion</td>\n",
       "      <td>0.420664</td>\n",
       "      <td>0.550701</td>\n",
       "      <td>0.515015</td>\n",
       "      <td>0.148291</td>\n",
       "      <td>0.209401</td>\n",
       "      <td>-0.082420</td>\n",
       "      <td>1.000000</td>\n",
       "      <td>0.611239</td>\n",
       "    </tr>\n",
       "    <tr>\n",
       "      <td>CapsularPenetration</td>\n",
       "      <td>0.452185</td>\n",
       "      <td>0.457590</td>\n",
       "      <td>0.593430</td>\n",
       "      <td>0.128845</td>\n",
       "      <td>0.183055</td>\n",
       "      <td>-0.035408</td>\n",
       "      <td>0.611239</td>\n",
       "      <td>1.000000</td>\n",
       "    </tr>\n",
       "  </tbody>\n",
       "</table>\n",
       "</div>"
      ],
      "text/plain": [
       "                            Y_HighGradeCancer  PSALevel  CancerVol    Weight  \\\n",
       "Y_HighGradeCancer                    1.000000  0.488609   0.492580  0.173835   \n",
       "PSALevel                             0.488609  1.000000   0.737585  0.427753   \n",
       "CancerVol                            0.492580  0.737585   1.000000  0.264202   \n",
       "Weight                               0.173835  0.427753   0.264202  1.000000   \n",
       "Age                                  0.196961  0.217748   0.274467  0.350116   \n",
       "BenignProstaticHyperplasia           0.000539  0.199778   0.044290  0.599560   \n",
       "SeminalVesicleInvasion               0.420664  0.550701   0.515015  0.148291   \n",
       "CapsularPenetration                  0.452185  0.457590   0.593430  0.128845   \n",
       "\n",
       "                                 Age  BenignProstaticHyperplasia  \\\n",
       "Y_HighGradeCancer           0.196961                    0.000539   \n",
       "PSALevel                    0.217748                    0.199778   \n",
       "CancerVol                   0.274467                    0.044290   \n",
       "Weight                      0.350116                    0.599560   \n",
       "Age                         1.000000                    0.344029   \n",
       "BenignProstaticHyperplasia  0.344029                    1.000000   \n",
       "SeminalVesicleInvasion      0.209401                   -0.082420   \n",
       "CapsularPenetration         0.183055                   -0.035408   \n",
       "\n",
       "                            SeminalVesicleInvasion  CapsularPenetration  \n",
       "Y_HighGradeCancer                         0.420664             0.452185  \n",
       "PSALevel                                  0.550701             0.457590  \n",
       "CancerVol                                 0.515015             0.593430  \n",
       "Weight                                    0.148291             0.128845  \n",
       "Age                                       0.209401             0.183055  \n",
       "BenignProstaticHyperplasia               -0.082420            -0.035408  \n",
       "SeminalVesicleInvasion                    1.000000             0.611239  \n",
       "CapsularPenetration                       0.611239             1.000000  "
      ]
     },
     "execution_count": 14,
     "metadata": {},
     "output_type": "execute_result"
    }
   ],
   "source": [
    "df_train.corr()"
   ]
  },
  {
   "cell_type": "code",
   "execution_count": 15,
   "metadata": {},
   "outputs": [
    {
     "data": {
      "text/html": [
       "<div>\n",
       "<style scoped>\n",
       "    .dataframe tbody tr th:only-of-type {\n",
       "        vertical-align: middle;\n",
       "    }\n",
       "\n",
       "    .dataframe tbody tr th {\n",
       "        vertical-align: top;\n",
       "    }\n",
       "\n",
       "    .dataframe thead th {\n",
       "        text-align: right;\n",
       "    }\n",
       "</style>\n",
       "<table border=\"1\" class=\"dataframe\">\n",
       "  <thead>\n",
       "    <tr style=\"text-align: right;\">\n",
       "      <th></th>\n",
       "      <th>PSALevel</th>\n",
       "      <th>CancerVol</th>\n",
       "    </tr>\n",
       "  </thead>\n",
       "  <tbody>\n",
       "    <tr>\n",
       "      <td>PSALevel</td>\n",
       "      <td>1.000000</td>\n",
       "      <td>0.737585</td>\n",
       "    </tr>\n",
       "    <tr>\n",
       "      <td>CancerVol</td>\n",
       "      <td>0.737585</td>\n",
       "      <td>1.000000</td>\n",
       "    </tr>\n",
       "  </tbody>\n",
       "</table>\n",
       "</div>"
      ],
      "text/plain": [
       "           PSALevel  CancerVol\n",
       "PSALevel   1.000000   0.737585\n",
       "CancerVol  0.737585   1.000000"
      ]
     },
     "execution_count": 15,
     "metadata": {},
     "output_type": "execute_result"
    }
   ],
   "source": [
    "# correlation of final two predictors\n",
    "df_train[['PSALevel', 'CancerVol']].corr()"
   ]
  },
  {
   "cell_type": "markdown",
   "metadata": {},
   "source": [
    "## Data Preperation"
   ]
  },
  {
   "cell_type": "markdown",
   "metadata": {},
   "source": [
    "Because R has already prepared the training and test sets, I will manually assign the split data to appropriate variables now."
   ]
  },
  {
   "cell_type": "code",
   "execution_count": 16,
   "metadata": {},
   "outputs": [],
   "source": [
    "# train-test split\n",
    "X_train = df_train.loc[:, cols_model]\n",
    "y_train = df_train['Y_HighGradeCancer']\n",
    "X_test = df_test.loc[:, cols_model]\n",
    "y_test = df_test['Y_HighGradeCancer']"
   ]
  },
  {
   "cell_type": "code",
   "execution_count": 17,
   "metadata": {},
   "outputs": [
    {
     "name": "stdout",
     "output_type": "stream",
     "text": [
      "(76, 2) (76,)\n",
      "(21, 2) (21,)\n"
     ]
    }
   ],
   "source": [
    "print(X_train.shape, y_train.shape)\n",
    "print(X_test.shape, y_test.shape)"
   ]
  },
  {
   "cell_type": "code",
   "execution_count": 18,
   "metadata": {},
   "outputs": [
    {
     "name": "stdout",
     "output_type": "stream",
     "text": [
      "Mean y in train set: 0.184\n",
      "Mean y in test set: 0.333\n"
     ]
    }
   ],
   "source": [
    "# average survival in train and test sets\n",
    "print(f'Mean y in train set: {round(np.mean(y_train), 3)}')\n",
    "print(f'Mean y in test set: {round(np.mean(y_test), 3)}')"
   ]
  },
  {
   "cell_type": "markdown",
   "metadata": {},
   "source": [
    "## Baseline Model"
   ]
  },
  {
   "cell_type": "markdown",
   "metadata": {},
   "source": [
    "Developing a basline model:\n",
    "- Here, I will feed the dummy model training data, and sklearn will determine the most frequent classification within the Y_HighGradeCancer field (via prior analysis we know this to value to be 0). Because Y_HighGradeCancer = 0 most freqently, the model will be designed to predict 0 on every single observation.\n",
    "- After the design of the baseline model, I will implement it on both the training and testing data, and calculate accuracy scores and confusion matrixes for good measure.\n",
    "- Subsequent model fittings can therefore be compared to the baseline model."
   ]
  },
  {
   "cell_type": "code",
   "execution_count": 19,
   "metadata": {},
   "outputs": [],
   "source": [
    "# import function\n",
    "from sklearn.dummy import DummyClassifier"
   ]
  },
  {
   "cell_type": "code",
   "execution_count": 20,
   "metadata": {},
   "outputs": [],
   "source": [
    "# create model\n",
    "# because mean y in train = 0.184 (shown above), this \"most frequent\" model will predict y=0 for all test observations\n",
    "model_dummy = DummyClassifier(strategy='most_frequent', random_state=0)"
   ]
  },
  {
   "cell_type": "code",
   "execution_count": 21,
   "metadata": {},
   "outputs": [
    {
     "data": {
      "text/plain": [
       "DummyClassifier(constant=None, random_state=0, strategy='most_frequent')"
      ]
     },
     "execution_count": 21,
     "metadata": {},
     "output_type": "execute_result"
    }
   ],
   "source": [
    "# train model\n",
    "model_dummy.fit(X_train, y_train)"
   ]
  },
  {
   "cell_type": "code",
   "execution_count": 22,
   "metadata": {},
   "outputs": [
    {
     "name": "stdout",
     "output_type": "stream",
     "text": [
      "Score for baseline model (TRAINING): 0.82\n",
      "Score for baseline model (TESTING): 0.67\n"
     ]
    }
   ],
   "source": [
    "# run dummy_model with training data\n",
    "print(f'Score for baseline model (TRAINING): {round(model_dummy.score(X_train, y_train), 2)}')\n",
    "\n",
    "# run dummy_model with testing data\n",
    "print(f'Score for baseline model (TESTING): {round(model_dummy.score(X_test, y_test), 2)}')"
   ]
  },
  {
   "cell_type": "code",
   "execution_count": 23,
   "metadata": {},
   "outputs": [],
   "source": [
    "# performance metrics\n",
    "from sklearn.metrics import accuracy_score, confusion_matrix, precision_score, recall_score"
   ]
  },
  {
   "cell_type": "code",
   "execution_count": 24,
   "metadata": {},
   "outputs": [
    {
     "name": "stdout",
     "output_type": "stream",
     "text": [
      "Confusion matrix for baseline model (TRAINING): \n",
      " [[62  0]\n",
      " [14  0]] \n",
      "\n",
      "Confusion matrix for baseline model (TESTING): \n",
      " [[14  0]\n",
      " [ 7  0]]\n"
     ]
    }
   ],
   "source": [
    "# training confusion matrix\n",
    "print(f'Confusion matrix for baseline model (TRAINING): \\n {confusion_matrix(y_train, model_dummy.predict(X_train))} \\n')\n",
    "\n",
    "# testing confusion matrix\n",
    "print(f'Confusion matrix for baseline model (TESTING): \\n {confusion_matrix(y_test, model_dummy.predict(X_test))}')"
   ]
  },
  {
   "cell_type": "markdown",
   "metadata": {},
   "source": [
    "## Statsmodels Library"
   ]
  },
  {
   "cell_type": "markdown",
   "metadata": {},
   "source": [
    "### Full Logistics Model"
   ]
  },
  {
   "cell_type": "code",
   "execution_count": 25,
   "metadata": {},
   "outputs": [],
   "source": [
    "import statsmodels.api as sm"
   ]
  },
  {
   "cell_type": "code",
   "execution_count": 26,
   "metadata": {},
   "outputs": [
    {
     "name": "stderr",
     "output_type": "stream",
     "text": [
      "C:\\Users\\jaosi\\Anaconda3\\envs\\datSci\\lib\\site-packages\\numpy\\core\\fromnumeric.py:2389: FutureWarning: Method .ptp is deprecated and will be removed in a future version. Use numpy.ptp instead.\n",
      "  return ptp(axis=axis, out=out, **kwargs)\n"
     ]
    }
   ],
   "source": [
    "X_model = sm.add_constant(X_train)\n",
    "model = sm.Logit(y_train, X_model)"
   ]
  },
  {
   "cell_type": "code",
   "execution_count": 27,
   "metadata": {},
   "outputs": [
    {
     "name": "stdout",
     "output_type": "stream",
     "text": [
      "Optimization terminated successfully.\n",
      "         Current function value: 0.293604\n",
      "         Iterations 8\n"
     ]
    }
   ],
   "source": [
    "results = model.fit()"
   ]
  },
  {
   "cell_type": "code",
   "execution_count": 28,
   "metadata": {},
   "outputs": [
    {
     "name": "stdout",
     "output_type": "stream",
     "text": [
      "                          Results: Logit\n",
      "==================================================================\n",
      "Model:              Logit             Pseudo R-squared: 0.385     \n",
      "Dependent Variable: Y_HighGradeCancer AIC:              50.6278   \n",
      "Date:               2020-12-03 15:26  BIC:              57.6200   \n",
      "No. Observations:   76                Log-Likelihood:   -22.314   \n",
      "Df Model:           2                 LL-Null:          -36.307   \n",
      "Df Residuals:       73                LLR p-value:      8.3761e-07\n",
      "Converged:          1.0000            Scale:            1.0000    \n",
      "No. Iterations:     8.0000                                        \n",
      "-------------------------------------------------------------------\n",
      "                Coef.   Std.Err.     z     P>|z|    [0.025   0.975]\n",
      "-------------------------------------------------------------------\n",
      "const          -2.6867    0.6186  -4.3429  0.0000  -3.8992  -1.4742\n",
      "PSALevel        1.0577    0.6198   1.7067  0.0879  -0.1570   2.2725\n",
      "CancerVol       1.5502    0.6859   2.2599  0.0238   0.2058   2.8945\n",
      "==================================================================\n",
      "\n"
     ]
    }
   ],
   "source": [
    "### full model statistical output\n",
    "print(results.summary2(alpha=0.05))"
   ]
  },
  {
   "cell_type": "code",
   "execution_count": 29,
   "metadata": {},
   "outputs": [],
   "source": [
    "PSALevel_list = X_train['PSALevel'].tolist()\n",
    "CancerVol_list = X_train['CancerVol'].tolist()\n",
    "Y_HighGradeCancer_list = y_train.tolist()"
   ]
  },
  {
   "cell_type": "code",
   "execution_count": 30,
   "metadata": {},
   "outputs": [
    {
     "data": {
      "text/plain": [
       "numpy.ndarray"
      ]
     },
     "execution_count": 30,
     "metadata": {},
     "output_type": "execute_result"
    }
   ],
   "source": [
    "type(np.arange(1, 2, 0.5))"
   ]
  },
  {
   "cell_type": "markdown",
   "metadata": {},
   "source": [
    "## Advanced Visualizations Using Matplotlib"
   ]
  },
  {
   "cell_type": "code",
   "execution_count": 31,
   "metadata": {},
   "outputs": [],
   "source": [
    "import math\n",
    "import matplotlib.pyplot as plt\n",
    "from mpl_toolkits.mplot3d import Axes3D\n",
    "import numpy as np"
   ]
  },
  {
   "cell_type": "markdown",
   "metadata": {},
   "source": [
    "### Logistic Regression Plot"
   ]
  },
  {
   "cell_type": "code",
   "execution_count": 32,
   "metadata": {},
   "outputs": [
    {
     "data": {
      "text/plain": [
       "Text(0.5, 0.92, 'Prostate Cancer: Logistic Regression')"
      ]
     },
     "execution_count": 32,
     "metadata": {},
     "output_type": "execute_result"
    },
    {
     "data": {
      "image/png": "[encoded data removed]",
      "text/plain": [
       "<Figure size 432x288 with 1 Axes>"
      ]
     },
     "metadata": {
      "needs_background": "light"
     },
     "output_type": "display_data"
    }
   ],
   "source": [
    "%matplotlib inline\n",
    "\n",
    "# bring in and store the coefficients of the fitted model\n",
    "const_coeff, x1_coeff, x2_coeff = results.params\n",
    "\n",
    "# define a sigmoid function of 2 variables\n",
    "def sigmoid(x1, x2):\n",
    "    func = 1.0 / (1.0 + math.exp(-(const_coeff + x1_coeff*x1 + x2_coeff*x2)))\n",
    "    return func\n",
    "\n",
    "# design plot\n",
    "fig = plt.figure()\n",
    "ax = fig.add_subplot(111, projection='3d')\n",
    "plt.tight_layout()\n",
    "x = y = np.arange(-3.0, 4.0, 0.05)\n",
    "X, Y = np.meshgrid(x, y)\n",
    "zs = np.array([sigmoid(x,y) for x,y in zip(np.ravel(X), np.ravel(Y))])\n",
    "Z = zs.reshape(X.shape)\n",
    "\n",
    "# draw plots\n",
    "ax.plot_surface(X, Y, Z, alpha=0.5)\n",
    "ax.scatter(PSALevel_list, CancerVol_list, Y_HighGradeCancer_list, c='red', marker='o')\n",
    "\n",
    "# modify axes and labels\n",
    "ax.set_xticklabels([])\n",
    "ax.set_yticklabels([])\n",
    "ax.set_zticklabels([0, 0, '', '', '', '', 1])\n",
    "ax.set_xlabel('PSALevel')\n",
    "ax.set_ylabel('CancerVol')\n",
    "ax.set_zlabel('Y_HighGradeCancer')\n",
    "ax.set_title('Prostate Cancer: Logistic Regression')"
   ]
  }
 ],
 "metadata": {
  "kernelspec": {
   "display_name": "Python 3",
   "language": "python",
   "name": "python3"
  },
  "language_info": {
   "codemirror_mode": {
    "name": "ipython",
    "version": 3
   },
   "file_extension": ".py",
   "mimetype": "text/x-python",
   "name": "python",
   "nbconvert_exporter": "python",
   "pygments_lexer": "ipython3",
   "version": "3.7.4"
  }
 },
 "nbformat": 4,
 "nbformat_minor": 2
}
