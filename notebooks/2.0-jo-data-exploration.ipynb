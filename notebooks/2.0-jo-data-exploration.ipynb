{
 "cells": [
  {
   "cell_type": "markdown",
   "metadata": {},
   "source": [
    "# Exploring and Processing Data"
   ]
  },
  {
   "cell_type": "code",
   "execution_count": 1,
   "metadata": {},
   "outputs": [],
   "source": [
    "# imports\n",
    "import pandas as pd\n",
    "import numpy as np\n",
    "import os"
   ]
  },
  {
   "cell_type": "code",
   "execution_count": 2,
   "metadata": {},
   "outputs": [],
   "source": [
    "# allow plots/visuals to exist inline within this workbook\n",
    "%matplotlib inline"
   ]
  },
  {
   "cell_type": "markdown",
   "metadata": {},
   "source": [
    "## Import Data"
   ]
  },
  {
   "cell_type": "code",
   "execution_count": 3,
   "metadata": {},
   "outputs": [],
   "source": [
    "# set path to raw data\n",
    "raw_data_path = os.path.join(os.path.pardir, 'data', 'raw')\n",
    "data_file_path = os.path.join(raw_data_path, 'APPENC05.txt')"
   ]
  },
  {
   "cell_type": "code",
   "execution_count": 4,
   "metadata": {},
   "outputs": [
    {
     "name": "stdout",
     "output_type": "stream",
     "text": [
      "   1     0.651    0.5599    15.959    50    0.0000    0    0.0000    6\n",
      "   2     0.852    0.3716    27.660    58    0.0000    0    0.0000    7\n",
      "   3     0.852    0.6005    14.732    74    0.0000    0    0.0000    7\n",
      "   4     0.852    0.3012    26.576    58    0.0000    0    0.0000    6\n",
      "   5     1.448    2.1170    30.877    62    0.0000    0    0.0000    6\n",
      "   6     2.160    0.3499    25.280    50    0.0000    0    0.0000    6\n",
      "   7     2.160    2.0959    32.137    64    1.8589    0    0.0000    6\n",
      "   \n"
     ]
    }
   ],
   "source": [
    "# read the default .txt file and print it\n",
    "f = open(data_file_path, 'r')\n",
    "print(f.read(500)) # print the first 500 characters\n",
    "f.close()"
   ]
  },
  {
   "cell_type": "code",
   "execution_count": 5,
   "metadata": {},
   "outputs": [],
   "source": [
    "# create pandas dataframe with column headers\n",
    "cols = [\n",
    "    'Obs', 'PSALevel','CancerVol', 'Weight',\n",
    "    'Age', 'BenignProstaticHyperplasia', 'SeminalVesicleInvasion',\n",
    "    'CapsularPenetration', 'GleasonScore'\n",
    "    ]\n",
    "\n",
    "df = pd.read_fwf(data_file_path, names=cols, index_col='Obs')"
   ]
  },
  {
   "cell_type": "markdown",
   "metadata": {},
   "source": [
    "## Basic Structure"
   ]
  },
  {
   "cell_type": "markdown",
   "metadata": {},
   "source": [
    "By instruction of the case study, I will create a new binary response variable Y, called high-grade cancer, by letting Y=1 if Gleason score equals 8, and Y=0 otherwise (i.e., if Gleason score equals 6 or 7).\n",
    "<br>Let the new field be called \"Y_HighGradeCancer\" within the dataset.\n",
    "- Note: Y_HighGradeCancer and SeminalVesicleInvasion are binary indicator variables."
   ]
  },
  {
   "cell_type": "code",
   "execution_count": 6,
   "metadata": {},
   "outputs": [],
   "source": [
    "df['Y_HighGradeCancer'] = np.where(df['GleasonScore'] == 8, 1, 0)"
   ]
  },
  {
   "cell_type": "code",
   "execution_count": 7,
   "metadata": {},
   "outputs": [
    {
     "data": {
      "text/html": [
       "<div>\n",
       "<style scoped>\n",
       "    .dataframe tbody tr th:only-of-type {\n",
       "        vertical-align: middle;\n",
       "    }\n",
       "\n",
       "    .dataframe tbody tr th {\n",
       "        vertical-align: top;\n",
       "    }\n",
       "\n",
       "    .dataframe thead th {\n",
       "        text-align: right;\n",
       "    }\n",
       "</style>\n",
       "<table border=\"1\" class=\"dataframe\">\n",
       "  <thead>\n",
       "    <tr style=\"text-align: right;\">\n",
       "      <th></th>\n",
       "      <th>PSALevel</th>\n",
       "      <th>CancerVol</th>\n",
       "      <th>Weight</th>\n",
       "      <th>Age</th>\n",
       "      <th>BenignProstaticHyperplasia</th>\n",
       "      <th>SeminalVesicleInvasion</th>\n",
       "      <th>CapsularPenetration</th>\n",
       "      <th>GleasonScore</th>\n",
       "      <th>Y_HighGradeCancer</th>\n",
       "    </tr>\n",
       "    <tr>\n",
       "      <th>Obs</th>\n",
       "      <th></th>\n",
       "      <th></th>\n",
       "      <th></th>\n",
       "      <th></th>\n",
       "      <th></th>\n",
       "      <th></th>\n",
       "      <th></th>\n",
       "      <th></th>\n",
       "      <th></th>\n",
       "    </tr>\n",
       "  </thead>\n",
       "  <tbody>\n",
       "    <tr>\n",
       "      <td>1</td>\n",
       "      <td>0.651</td>\n",
       "      <td>0.5599</td>\n",
       "      <td>15.959</td>\n",
       "      <td>50</td>\n",
       "      <td>0.0</td>\n",
       "      <td>0</td>\n",
       "      <td>0.0</td>\n",
       "      <td>6</td>\n",
       "      <td>0</td>\n",
       "    </tr>\n",
       "    <tr>\n",
       "      <td>2</td>\n",
       "      <td>0.852</td>\n",
       "      <td>0.3716</td>\n",
       "      <td>27.660</td>\n",
       "      <td>58</td>\n",
       "      <td>0.0</td>\n",
       "      <td>0</td>\n",
       "      <td>0.0</td>\n",
       "      <td>7</td>\n",
       "      <td>0</td>\n",
       "    </tr>\n",
       "    <tr>\n",
       "      <td>3</td>\n",
       "      <td>0.852</td>\n",
       "      <td>0.6005</td>\n",
       "      <td>14.732</td>\n",
       "      <td>74</td>\n",
       "      <td>0.0</td>\n",
       "      <td>0</td>\n",
       "      <td>0.0</td>\n",
       "      <td>7</td>\n",
       "      <td>0</td>\n",
       "    </tr>\n",
       "    <tr>\n",
       "      <td>4</td>\n",
       "      <td>0.852</td>\n",
       "      <td>0.3012</td>\n",
       "      <td>26.576</td>\n",
       "      <td>58</td>\n",
       "      <td>0.0</td>\n",
       "      <td>0</td>\n",
       "      <td>0.0</td>\n",
       "      <td>6</td>\n",
       "      <td>0</td>\n",
       "    </tr>\n",
       "    <tr>\n",
       "      <td>5</td>\n",
       "      <td>1.448</td>\n",
       "      <td>2.1170</td>\n",
       "      <td>30.877</td>\n",
       "      <td>62</td>\n",
       "      <td>0.0</td>\n",
       "      <td>0</td>\n",
       "      <td>0.0</td>\n",
       "      <td>6</td>\n",
       "      <td>0</td>\n",
       "    </tr>\n",
       "  </tbody>\n",
       "</table>\n",
       "</div>"
      ],
      "text/plain": [
       "     PSALevel  CancerVol  Weight  Age  BenignProstaticHyperplasia  \\\n",
       "Obs                                                                 \n",
       "1       0.651     0.5599  15.959   50                         0.0   \n",
       "2       0.852     0.3716  27.660   58                         0.0   \n",
       "3       0.852     0.6005  14.732   74                         0.0   \n",
       "4       0.852     0.3012  26.576   58                         0.0   \n",
       "5       1.448     2.1170  30.877   62                         0.0   \n",
       "\n",
       "     SeminalVesicleInvasion  CapsularPenetration  GleasonScore  \\\n",
       "Obs                                                              \n",
       "1                         0                  0.0             6   \n",
       "2                         0                  0.0             7   \n",
       "3                         0                  0.0             7   \n",
       "4                         0                  0.0             6   \n",
       "5                         0                  0.0             6   \n",
       "\n",
       "     Y_HighGradeCancer  \n",
       "Obs                     \n",
       "1                    0  \n",
       "2                    0  \n",
       "3                    0  \n",
       "4                    0  \n",
       "5                    0  "
      ]
     },
     "execution_count": 7,
     "metadata": {},
     "output_type": "execute_result"
    }
   ],
   "source": [
    "# use .head() to view the first 5 rows\n",
    "df.head()"
   ]
  },
  {
   "cell_type": "code",
   "execution_count": 8,
   "metadata": {},
   "outputs": [
    {
     "data": {
      "text/html": [
       "<div>\n",
       "<style scoped>\n",
       "    .dataframe tbody tr th:only-of-type {\n",
       "        vertical-align: middle;\n",
       "    }\n",
       "\n",
       "    .dataframe tbody tr th {\n",
       "        vertical-align: top;\n",
       "    }\n",
       "\n",
       "    .dataframe thead th {\n",
       "        text-align: right;\n",
       "    }\n",
       "</style>\n",
       "<table border=\"1\" class=\"dataframe\">\n",
       "  <thead>\n",
       "    <tr style=\"text-align: right;\">\n",
       "      <th></th>\n",
       "      <th>PSALevel</th>\n",
       "      <th>CancerVol</th>\n",
       "      <th>Weight</th>\n",
       "      <th>Age</th>\n",
       "      <th>BenignProstaticHyperplasia</th>\n",
       "      <th>SeminalVesicleInvasion</th>\n",
       "      <th>CapsularPenetration</th>\n",
       "      <th>GleasonScore</th>\n",
       "      <th>Y_HighGradeCancer</th>\n",
       "    </tr>\n",
       "    <tr>\n",
       "      <th>Obs</th>\n",
       "      <th></th>\n",
       "      <th></th>\n",
       "      <th></th>\n",
       "      <th></th>\n",
       "      <th></th>\n",
       "      <th></th>\n",
       "      <th></th>\n",
       "      <th></th>\n",
       "      <th></th>\n",
       "    </tr>\n",
       "  </thead>\n",
       "  <tbody>\n",
       "    <tr>\n",
       "      <td>93</td>\n",
       "      <td>80.640</td>\n",
       "      <td>16.9455</td>\n",
       "      <td>48.424</td>\n",
       "      <td>68</td>\n",
       "      <td>0.0000</td>\n",
       "      <td>1</td>\n",
       "      <td>3.7434</td>\n",
       "      <td>8</td>\n",
       "      <td>1</td>\n",
       "    </tr>\n",
       "    <tr>\n",
       "      <td>94</td>\n",
       "      <td>107.770</td>\n",
       "      <td>45.6042</td>\n",
       "      <td>49.402</td>\n",
       "      <td>44</td>\n",
       "      <td>0.0000</td>\n",
       "      <td>1</td>\n",
       "      <td>8.7583</td>\n",
       "      <td>8</td>\n",
       "      <td>1</td>\n",
       "    </tr>\n",
       "    <tr>\n",
       "      <td>95</td>\n",
       "      <td>170.716</td>\n",
       "      <td>18.3568</td>\n",
       "      <td>29.964</td>\n",
       "      <td>52</td>\n",
       "      <td>0.0000</td>\n",
       "      <td>1</td>\n",
       "      <td>11.7048</td>\n",
       "      <td>8</td>\n",
       "      <td>1</td>\n",
       "    </tr>\n",
       "    <tr>\n",
       "      <td>96</td>\n",
       "      <td>239.847</td>\n",
       "      <td>17.8143</td>\n",
       "      <td>43.380</td>\n",
       "      <td>68</td>\n",
       "      <td>4.7588</td>\n",
       "      <td>1</td>\n",
       "      <td>4.7588</td>\n",
       "      <td>8</td>\n",
       "      <td>1</td>\n",
       "    </tr>\n",
       "    <tr>\n",
       "      <td>97</td>\n",
       "      <td>265.072</td>\n",
       "      <td>32.1367</td>\n",
       "      <td>52.985</td>\n",
       "      <td>68</td>\n",
       "      <td>1.5527</td>\n",
       "      <td>1</td>\n",
       "      <td>18.1741</td>\n",
       "      <td>8</td>\n",
       "      <td>1</td>\n",
       "    </tr>\n",
       "  </tbody>\n",
       "</table>\n",
       "</div>"
      ],
      "text/plain": [
       "     PSALevel  CancerVol  Weight  Age  BenignProstaticHyperplasia  \\\n",
       "Obs                                                                 \n",
       "93     80.640    16.9455  48.424   68                      0.0000   \n",
       "94    107.770    45.6042  49.402   44                      0.0000   \n",
       "95    170.716    18.3568  29.964   52                      0.0000   \n",
       "96    239.847    17.8143  43.380   68                      4.7588   \n",
       "97    265.072    32.1367  52.985   68                      1.5527   \n",
       "\n",
       "     SeminalVesicleInvasion  CapsularPenetration  GleasonScore  \\\n",
       "Obs                                                              \n",
       "93                        1               3.7434             8   \n",
       "94                        1               8.7583             8   \n",
       "95                        1              11.7048             8   \n",
       "96                        1               4.7588             8   \n",
       "97                        1              18.1741             8   \n",
       "\n",
       "     Y_HighGradeCancer  \n",
       "Obs                     \n",
       "93                   1  \n",
       "94                   1  \n",
       "95                   1  \n",
       "96                   1  \n",
       "97                   1  "
      ]
     },
     "execution_count": 8,
     "metadata": {},
     "output_type": "execute_result"
    }
   ],
   "source": [
    "# use .tail() to view the last 5 rows\n",
    "df.tail()"
   ]
  },
  {
   "cell_type": "code",
   "execution_count": 9,
   "metadata": {},
   "outputs": [
    {
     "name": "stdout",
     "output_type": "stream",
     "text": [
      "<class 'pandas.core.frame.DataFrame'>\n",
      "Int64Index: 97 entries, 1 to 97\n",
      "Data columns (total 9 columns):\n",
      "PSALevel                      97 non-null float64\n",
      "CancerVol                     97 non-null float64\n",
      "Weight                        97 non-null float64\n",
      "Age                           97 non-null int64\n",
      "BenignProstaticHyperplasia    97 non-null float64\n",
      "SeminalVesicleInvasion        97 non-null int64\n",
      "CapsularPenetration           97 non-null float64\n",
      "GleasonScore                  97 non-null int64\n",
      "Y_HighGradeCancer             97 non-null int32\n",
      "dtypes: float64(5), int32(1), int64(3)\n",
      "memory usage: 7.2 KB\n"
     ]
    }
   ],
   "source": [
    "# use .info() to get basic information about the dataframe\n",
    "df.info()"
   ]
  },
  {
   "cell_type": "code",
   "execution_count": 10,
   "metadata": {},
   "outputs": [
    {
     "name": "stdout",
     "output_type": "stream",
     "text": [
      "Count of high-grade cancer: 21\n",
      "Count of non high-grade cancer: 76\n"
     ]
    }
   ],
   "source": [
    "# filter rows based on condition\n",
    "gleason_8 = len(df.loc[df.GleasonScore == 8, :])\n",
    "gleason_not8 = len(df.loc[df.GleasonScore != 8, :])\n",
    "print(f'Count of high-grade cancer: {gleason_8}')\n",
    "print(f'Count of non high-grade cancer: {gleason_not8}')"
   ]
  },
  {
   "cell_type": "code",
   "execution_count": 11,
   "metadata": {},
   "outputs": [
    {
     "data": {
      "text/plain": [
       "0    0.783505\n",
       "1    0.216495\n",
       "Name: Y_HighGradeCancer, dtype: float64"
      ]
     },
     "execution_count": 11,
     "metadata": {},
     "output_type": "execute_result"
    }
   ],
   "source": [
    "# Y binary column: proportions\n",
    "df.Y_HighGradeCancer.value_counts(normalize=True)"
   ]
  },
  {
   "cell_type": "markdown",
   "metadata": {},
   "source": [
    "## Summary Statistics"
   ]
  },
  {
   "cell_type": "code",
   "execution_count": 12,
   "metadata": {},
   "outputs": [
    {
     "data": {
      "text/html": [
       "<div>\n",
       "<style scoped>\n",
       "    .dataframe tbody tr th:only-of-type {\n",
       "        vertical-align: middle;\n",
       "    }\n",
       "\n",
       "    .dataframe tbody tr th {\n",
       "        vertical-align: top;\n",
       "    }\n",
       "\n",
       "    .dataframe thead th {\n",
       "        text-align: right;\n",
       "    }\n",
       "</style>\n",
       "<table border=\"1\" class=\"dataframe\">\n",
       "  <thead>\n",
       "    <tr style=\"text-align: right;\">\n",
       "      <th></th>\n",
       "      <th>PSALevel</th>\n",
       "      <th>CancerVol</th>\n",
       "      <th>Weight</th>\n",
       "      <th>Age</th>\n",
       "      <th>BenignProstaticHyperplasia</th>\n",
       "      <th>SeminalVesicleInvasion</th>\n",
       "      <th>CapsularPenetration</th>\n",
       "      <th>GleasonScore</th>\n",
       "      <th>Y_HighGradeCancer</th>\n",
       "    </tr>\n",
       "  </thead>\n",
       "  <tbody>\n",
       "    <tr>\n",
       "      <td>count</td>\n",
       "      <td>97.000000</td>\n",
       "      <td>97.000000</td>\n",
       "      <td>97.000000</td>\n",
       "      <td>97.000000</td>\n",
       "      <td>97.000000</td>\n",
       "      <td>97.000000</td>\n",
       "      <td>97.000000</td>\n",
       "      <td>97.000000</td>\n",
       "      <td>97.000000</td>\n",
       "    </tr>\n",
       "    <tr>\n",
       "      <td>mean</td>\n",
       "      <td>23.730134</td>\n",
       "      <td>6.998682</td>\n",
       "      <td>45.491361</td>\n",
       "      <td>63.865979</td>\n",
       "      <td>2.534725</td>\n",
       "      <td>0.216495</td>\n",
       "      <td>2.245367</td>\n",
       "      <td>6.876289</td>\n",
       "      <td>0.216495</td>\n",
       "    </tr>\n",
       "    <tr>\n",
       "      <td>std</td>\n",
       "      <td>40.782925</td>\n",
       "      <td>7.880869</td>\n",
       "      <td>45.705053</td>\n",
       "      <td>7.445117</td>\n",
       "      <td>3.031176</td>\n",
       "      <td>0.413995</td>\n",
       "      <td>3.783329</td>\n",
       "      <td>0.739619</td>\n",
       "      <td>0.413995</td>\n",
       "    </tr>\n",
       "    <tr>\n",
       "      <td>min</td>\n",
       "      <td>0.651000</td>\n",
       "      <td>0.259200</td>\n",
       "      <td>10.697000</td>\n",
       "      <td>41.000000</td>\n",
       "      <td>0.000000</td>\n",
       "      <td>0.000000</td>\n",
       "      <td>0.000000</td>\n",
       "      <td>6.000000</td>\n",
       "      <td>0.000000</td>\n",
       "    </tr>\n",
       "    <tr>\n",
       "      <td>25%</td>\n",
       "      <td>5.641000</td>\n",
       "      <td>1.665300</td>\n",
       "      <td>29.371000</td>\n",
       "      <td>60.000000</td>\n",
       "      <td>0.000000</td>\n",
       "      <td>0.000000</td>\n",
       "      <td>0.000000</td>\n",
       "      <td>6.000000</td>\n",
       "      <td>0.000000</td>\n",
       "    </tr>\n",
       "    <tr>\n",
       "      <td>50%</td>\n",
       "      <td>13.330000</td>\n",
       "      <td>4.263100</td>\n",
       "      <td>37.338000</td>\n",
       "      <td>65.000000</td>\n",
       "      <td>1.349900</td>\n",
       "      <td>0.000000</td>\n",
       "      <td>0.449300</td>\n",
       "      <td>7.000000</td>\n",
       "      <td>0.000000</td>\n",
       "    </tr>\n",
       "    <tr>\n",
       "      <td>75%</td>\n",
       "      <td>21.328000</td>\n",
       "      <td>8.414900</td>\n",
       "      <td>48.424000</td>\n",
       "      <td>68.000000</td>\n",
       "      <td>4.758800</td>\n",
       "      <td>0.000000</td>\n",
       "      <td>3.254400</td>\n",
       "      <td>7.000000</td>\n",
       "      <td>0.000000</td>\n",
       "    </tr>\n",
       "    <tr>\n",
       "      <td>max</td>\n",
       "      <td>265.072000</td>\n",
       "      <td>45.604200</td>\n",
       "      <td>450.339000</td>\n",
       "      <td>79.000000</td>\n",
       "      <td>10.277900</td>\n",
       "      <td>1.000000</td>\n",
       "      <td>18.174100</td>\n",
       "      <td>8.000000</td>\n",
       "      <td>1.000000</td>\n",
       "    </tr>\n",
       "  </tbody>\n",
       "</table>\n",
       "</div>"
      ],
      "text/plain": [
       "         PSALevel  CancerVol      Weight        Age  \\\n",
       "count   97.000000  97.000000   97.000000  97.000000   \n",
       "mean    23.730134   6.998682   45.491361  63.865979   \n",
       "std     40.782925   7.880869   45.705053   7.445117   \n",
       "min      0.651000   0.259200   10.697000  41.000000   \n",
       "25%      5.641000   1.665300   29.371000  60.000000   \n",
       "50%     13.330000   4.263100   37.338000  65.000000   \n",
       "75%     21.328000   8.414900   48.424000  68.000000   \n",
       "max    265.072000  45.604200  450.339000  79.000000   \n",
       "\n",
       "       BenignProstaticHyperplasia  SeminalVesicleInvasion  \\\n",
       "count                   97.000000               97.000000   \n",
       "mean                     2.534725                0.216495   \n",
       "std                      3.031176                0.413995   \n",
       "min                      0.000000                0.000000   \n",
       "25%                      0.000000                0.000000   \n",
       "50%                      1.349900                0.000000   \n",
       "75%                      4.758800                0.000000   \n",
       "max                     10.277900                1.000000   \n",
       "\n",
       "       CapsularPenetration  GleasonScore  Y_HighGradeCancer  \n",
       "count            97.000000     97.000000          97.000000  \n",
       "mean              2.245367      6.876289           0.216495  \n",
       "std               3.783329      0.739619           0.413995  \n",
       "min               0.000000      6.000000           0.000000  \n",
       "25%               0.000000      6.000000           0.000000  \n",
       "50%               0.449300      7.000000           0.000000  \n",
       "75%               3.254400      7.000000           0.000000  \n",
       "max              18.174100      8.000000           1.000000  "
      ]
     },
     "execution_count": 12,
     "metadata": {},
     "output_type": "execute_result"
    }
   ],
   "source": [
    "# use .describe() to view summary statistics for all numerical columns\n",
    "df.describe()"
   ]
  },
  {
   "cell_type": "markdown",
   "metadata": {},
   "source": [
    "- PSALevel, CancerVol, Weight and Age appear to have high standard deviation values. This may provoke a standardized dataset, or transformations, further in my analysis.\n",
    "- Skewness will need to be investigated."
   ]
  },
  {
   "cell_type": "code",
   "execution_count": 13,
   "metadata": {},
   "outputs": [
    {
     "data": {
      "text/html": [
       "<div>\n",
       "<style scoped>\n",
       "    .dataframe tbody tr th:only-of-type {\n",
       "        vertical-align: middle;\n",
       "    }\n",
       "\n",
       "    .dataframe tbody tr th {\n",
       "        vertical-align: top;\n",
       "    }\n",
       "\n",
       "    .dataframe thead th {\n",
       "        text-align: right;\n",
       "    }\n",
       "</style>\n",
       "<table border=\"1\" class=\"dataframe\">\n",
       "  <thead>\n",
       "    <tr style=\"text-align: right;\">\n",
       "      <th></th>\n",
       "      <th>PSALevel</th>\n",
       "      <th>CancerVol</th>\n",
       "      <th>Weight</th>\n",
       "      <th>Age</th>\n",
       "      <th>BenignProstaticHyperplasia</th>\n",
       "      <th>SeminalVesicleInvasion</th>\n",
       "      <th>CapsularPenetration</th>\n",
       "      <th>Y_HighGradeCancer</th>\n",
       "    </tr>\n",
       "  </thead>\n",
       "  <tbody>\n",
       "    <tr>\n",
       "      <td>PSALevel</td>\n",
       "      <td>1.000000</td>\n",
       "      <td>0.624151</td>\n",
       "      <td>0.026213</td>\n",
       "      <td>0.017199</td>\n",
       "      <td>-0.016486</td>\n",
       "      <td>0.528619</td>\n",
       "      <td>0.550793</td>\n",
       "      <td>0.497189</td>\n",
       "    </tr>\n",
       "    <tr>\n",
       "      <td>CancerVol</td>\n",
       "      <td>0.624151</td>\n",
       "      <td>1.000000</td>\n",
       "      <td>0.005107</td>\n",
       "      <td>0.039094</td>\n",
       "      <td>-0.133209</td>\n",
       "      <td>0.581742</td>\n",
       "      <td>0.692897</td>\n",
       "      <td>0.564645</td>\n",
       "    </tr>\n",
       "    <tr>\n",
       "      <td>Weight</td>\n",
       "      <td>0.026213</td>\n",
       "      <td>0.005107</td>\n",
       "      <td>1.000000</td>\n",
       "      <td>0.164324</td>\n",
       "      <td>0.321849</td>\n",
       "      <td>-0.002410</td>\n",
       "      <td>0.001579</td>\n",
       "      <td>0.039445</td>\n",
       "    </tr>\n",
       "    <tr>\n",
       "      <td>Age</td>\n",
       "      <td>0.017199</td>\n",
       "      <td>0.039094</td>\n",
       "      <td>0.164324</td>\n",
       "      <td>1.000000</td>\n",
       "      <td>0.366341</td>\n",
       "      <td>0.117658</td>\n",
       "      <td>0.099555</td>\n",
       "      <td>0.148074</td>\n",
       "    </tr>\n",
       "    <tr>\n",
       "      <td>BenignProstaticHyperplasia</td>\n",
       "      <td>-0.016486</td>\n",
       "      <td>-0.133209</td>\n",
       "      <td>0.321849</td>\n",
       "      <td>0.366341</td>\n",
       "      <td>1.000000</td>\n",
       "      <td>-0.119553</td>\n",
       "      <td>-0.083009</td>\n",
       "      <td>-0.058032</td>\n",
       "    </tr>\n",
       "    <tr>\n",
       "      <td>SeminalVesicleInvasion</td>\n",
       "      <td>0.528619</td>\n",
       "      <td>0.581742</td>\n",
       "      <td>-0.002410</td>\n",
       "      <td>0.117658</td>\n",
       "      <td>-0.119553</td>\n",
       "      <td>1.000000</td>\n",
       "      <td>0.680284</td>\n",
       "      <td>0.392231</td>\n",
       "    </tr>\n",
       "    <tr>\n",
       "      <td>CapsularPenetration</td>\n",
       "      <td>0.550793</td>\n",
       "      <td>0.692897</td>\n",
       "      <td>0.001579</td>\n",
       "      <td>0.099555</td>\n",
       "      <td>-0.083009</td>\n",
       "      <td>0.680284</td>\n",
       "      <td>1.000000</td>\n",
       "      <td>0.463134</td>\n",
       "    </tr>\n",
       "    <tr>\n",
       "      <td>Y_HighGradeCancer</td>\n",
       "      <td>0.497189</td>\n",
       "      <td>0.564645</td>\n",
       "      <td>0.039445</td>\n",
       "      <td>0.148074</td>\n",
       "      <td>-0.058032</td>\n",
       "      <td>0.392231</td>\n",
       "      <td>0.463134</td>\n",
       "      <td>1.000000</td>\n",
       "    </tr>\n",
       "  </tbody>\n",
       "</table>\n",
       "</div>"
      ],
      "text/plain": [
       "                            PSALevel  CancerVol    Weight       Age  \\\n",
       "PSALevel                    1.000000   0.624151  0.026213  0.017199   \n",
       "CancerVol                   0.624151   1.000000  0.005107  0.039094   \n",
       "Weight                      0.026213   0.005107  1.000000  0.164324   \n",
       "Age                         0.017199   0.039094  0.164324  1.000000   \n",
       "BenignProstaticHyperplasia -0.016486  -0.133209  0.321849  0.366341   \n",
       "SeminalVesicleInvasion      0.528619   0.581742 -0.002410  0.117658   \n",
       "CapsularPenetration         0.550793   0.692897  0.001579  0.099555   \n",
       "Y_HighGradeCancer           0.497189   0.564645  0.039445  0.148074   \n",
       "\n",
       "                            BenignProstaticHyperplasia  \\\n",
       "PSALevel                                     -0.016486   \n",
       "CancerVol                                    -0.133209   \n",
       "Weight                                        0.321849   \n",
       "Age                                           0.366341   \n",
       "BenignProstaticHyperplasia                    1.000000   \n",
       "SeminalVesicleInvasion                       -0.119553   \n",
       "CapsularPenetration                          -0.083009   \n",
       "Y_HighGradeCancer                            -0.058032   \n",
       "\n",
       "                            SeminalVesicleInvasion  CapsularPenetration  \\\n",
       "PSALevel                                  0.528619             0.550793   \n",
       "CancerVol                                 0.581742             0.692897   \n",
       "Weight                                   -0.002410             0.001579   \n",
       "Age                                       0.117658             0.099555   \n",
       "BenignProstaticHyperplasia               -0.119553            -0.083009   \n",
       "SeminalVesicleInvasion                    1.000000             0.680284   \n",
       "CapsularPenetration                       0.680284             1.000000   \n",
       "Y_HighGradeCancer                         0.392231             0.463134   \n",
       "\n",
       "                            Y_HighGradeCancer  \n",
       "PSALevel                             0.497189  \n",
       "CancerVol                            0.564645  \n",
       "Weight                               0.039445  \n",
       "Age                                  0.148074  \n",
       "BenignProstaticHyperplasia          -0.058032  \n",
       "SeminalVesicleInvasion               0.392231  \n",
       "CapsularPenetration                  0.463134  \n",
       "Y_HighGradeCancer                    1.000000  "
      ]
     },
     "execution_count": 13,
     "metadata": {},
     "output_type": "execute_result"
    }
   ],
   "source": [
    "# correlation matrix\n",
    "# GleasonScore need not be considered\n",
    "cols = [col for col in df.columns if col != 'GleasonScore']\n",
    "df[cols].corr()"
   ]
  },
  {
   "cell_type": "code",
   "execution_count": 14,
   "metadata": {},
   "outputs": [
    {
     "data": {
      "image/png": "[encoded data removed]",
      "text/plain": [
       "<Figure size 720x720 with 4 Axes>"
      ]
     },
     "metadata": {
      "needs_background": "light"
     },
     "output_type": "display_data"
    }
   ],
   "source": [
    "# let's import searborn to help visualize the correlation matrix\n",
    "import seaborn as sns\n",
    "\n",
    "sns.clustermap(df[cols].corr());"
   ]
  },
  {
   "cell_type": "code",
   "execution_count": 15,
   "metadata": {},
   "outputs": [
    {
     "data": {
      "image/png": "[encoded data removed]",
      "text/plain": [
       "<Figure size 720x720 with 4 Axes>"
      ]
     },
     "metadata": {
      "needs_background": "light"
     },
     "output_type": "display_data"
    }
   ],
   "source": [
    "# view a few terms more closely\n",
    "sns.clustermap(df[['PSALevel', 'CancerVol', 'Age']].corr());"
   ]
  },
  {
   "cell_type": "code",
   "execution_count": 16,
   "metadata": {},
   "outputs": [
    {
     "data": {
      "text/html": [
       "<div>\n",
       "<style scoped>\n",
       "    .dataframe tbody tr th:only-of-type {\n",
       "        vertical-align: middle;\n",
       "    }\n",
       "\n",
       "    .dataframe tbody tr th {\n",
       "        vertical-align: top;\n",
       "    }\n",
       "\n",
       "    .dataframe thead th {\n",
       "        text-align: right;\n",
       "    }\n",
       "</style>\n",
       "<table border=\"1\" class=\"dataframe\">\n",
       "  <thead>\n",
       "    <tr style=\"text-align: right;\">\n",
       "      <th></th>\n",
       "      <th>PSALevel</th>\n",
       "      <th>CancerVol</th>\n",
       "    </tr>\n",
       "  </thead>\n",
       "  <tbody>\n",
       "    <tr>\n",
       "      <td>PSALevel</td>\n",
       "      <td>1.000000</td>\n",
       "      <td>0.624151</td>\n",
       "    </tr>\n",
       "    <tr>\n",
       "      <td>CancerVol</td>\n",
       "      <td>0.624151</td>\n",
       "      <td>1.000000</td>\n",
       "    </tr>\n",
       "  </tbody>\n",
       "</table>\n",
       "</div>"
      ],
      "text/plain": [
       "           PSALevel  CancerVol\n",
       "PSALevel   1.000000   0.624151\n",
       "CancerVol  0.624151   1.000000"
      ]
     },
     "execution_count": 16,
     "metadata": {},
     "output_type": "execute_result"
    }
   ],
   "source": [
    "# correlation of final two predictors\n",
    "df[['PSALevel', 'CancerVol']].corr()"
   ]
  },
  {
   "cell_type": "markdown",
   "metadata": {},
   "source": [
    "- PSALevel and CancerVol show a mild level of correlation: 0.624151"
   ]
  },
  {
   "cell_type": "code",
   "execution_count": 17,
   "metadata": {},
   "outputs": [
    {
     "name": "stdout",
     "output_type": "stream",
     "text": [
      "Mean Age: 63.87\n",
      "Median Age: 65.0\n"
     ]
    }
   ],
   "source": [
    "# numerical features\n",
    "# centrality measures\n",
    "print(f'Mean Age: {round(df.Age.mean(), 2)}')\n",
    "print(f'Median Age: {df.Age.median()}')"
   ]
  },
  {
   "cell_type": "code",
   "execution_count": 18,
   "metadata": {},
   "outputs": [
    {
     "data": {
      "image/png": "[encoded data removed]",
      "text/plain": [
       "<Figure size 432x288 with 1 Axes>"
      ]
     },
     "metadata": {
      "needs_background": "light"
     },
     "output_type": "display_data"
    },
    {
     "data": {
      "image/png": "[encoded data removed]",
      "text/plain": [
       "<Figure size 432x288 with 1 Axes>"
      ]
     },
     "metadata": {
      "needs_background": "light"
     },
     "output_type": "display_data"
    },
    {
     "data": {
      "image/png": "[encoded data removed]",
      "text/plain": [
       "<Figure size 432x288 with 1 Axes>"
      ]
     },
     "metadata": {
      "needs_background": "light"
     },
     "output_type": "display_data"
    },
    {
     "data": {
      "image/png": "[encoded data removed]",
      "text/plain": [
       "<Figure size 432x288 with 1 Axes>"
      ]
     },
     "metadata": {
      "needs_background": "light"
     },
     "output_type": "display_data"
    },
    {
     "data": {
      "image/png": "[encoded data removed]",
      "text/plain": [
       "<Figure size 432x288 with 1 Axes>"
      ]
     },
     "metadata": {
      "needs_background": "light"
     },
     "output_type": "display_data"
    },
    {
     "data": {
      "image/png": "[encoded data removed]",
      "text/plain": [
       "<Figure size 432x288 with 1 Axes>"
      ]
     },
     "metadata": {
      "needs_background": "light"
     },
     "output_type": "display_data"
    },
    {
     "data": {
      "image/png": "[encoded data removed]",
      "text/plain": [
       "<Figure size 432x288 with 1 Axes>"
      ]
     },
     "metadata": {
      "needs_background": "light"
     },
     "output_type": "display_data"
    },
    {
     "data": {
      "image/png": "[encoded data removed]",
      "text/plain": [
       "<Figure size 432x288 with 1 Axes>"
      ]
     },
     "metadata": {
      "needs_background": "light"
     },
     "output_type": "display_data"
    }
   ],
   "source": [
    "# print all relevant scatter plots\n",
    "# examine visuals for outliers\n",
    "for col in cols:\n",
    "    df[['Y_HighGradeCancer', col]].plot.scatter(x=col, y='Y_HighGradeCancer');"
   ]
  },
  {
   "cell_type": "markdown",
   "metadata": {},
   "source": [
    "- PSALevel and CancerVol may be good predictors for Y_HighGradeCancer in a Logistic Regression model.\n",
    "- Weight appears to contain an extreme outlier.\n",
    "- CancerVol may present two outliers, when Y_HighGradeCancer = 0.\n",
    "- Via a priori knowledge, Age may be a valuable predictor of Prostate Cancer, so I will retain it in my onging analysis."
   ]
  },
  {
   "cell_type": "markdown",
   "metadata": {},
   "source": [
    "## Distributions"
   ]
  },
  {
   "cell_type": "markdown",
   "metadata": {},
   "source": [
    "### PSALevel"
   ]
  },
  {
   "cell_type": "code",
   "execution_count": 19,
   "metadata": {},
   "outputs": [
    {
     "data": {
      "image/png": "[encoded data removed]",
      "text/plain": [
       "<Figure size 432x288 with 1 Axes>"
      ]
     },
     "metadata": {
      "needs_background": "light"
     },
     "output_type": "display_data"
    }
   ],
   "source": [
    "# box-whisker plot\n",
    "df.PSALevel.plot(kind='box');"
   ]
  },
  {
   "cell_type": "code",
   "execution_count": 20,
   "metadata": {},
   "outputs": [
    {
     "data": {
      "image/png": "[encoded data removed]",
      "text/plain": [
       "<Figure size 432x288 with 1 Axes>"
      ]
     },
     "metadata": {
      "needs_background": "light"
     },
     "output_type": "display_data"
    }
   ],
   "source": [
    "# use hist to create histogram\n",
    "df.PSALevel.plot(kind='hist', title='Histogram of PSA Level', color='c', bins=20);"
   ]
  },
  {
   "cell_type": "markdown",
   "metadata": {},
   "source": [
    "- PSALevel shows high positive skewness."
   ]
  },
  {
   "cell_type": "markdown",
   "metadata": {},
   "source": [
    "### CancerVol"
   ]
  },
  {
   "cell_type": "code",
   "execution_count": 21,
   "metadata": {},
   "outputs": [
    {
     "data": {
      "image/png": "[encoded data removed]",
      "text/plain": [
       "<Figure size 432x288 with 1 Axes>"
      ]
     },
     "metadata": {
      "needs_background": "light"
     },
     "output_type": "display_data"
    }
   ],
   "source": [
    "df.CancerVol.plot(kind='box');"
   ]
  },
  {
   "cell_type": "code",
   "execution_count": 22,
   "metadata": {},
   "outputs": [
    {
     "data": {
      "image/png": "[encoded data removed]",
      "text/plain": [
       "<Figure size 432x288 with 1 Axes>"
      ]
     },
     "metadata": {
      "needs_background": "light"
     },
     "output_type": "display_data"
    }
   ],
   "source": [
    "df.CancerVol.plot(kind='hist', title='Histogram of Cancer Volume', color='c', bins=20);"
   ]
  },
  {
   "cell_type": "markdown",
   "metadata": {},
   "source": [
    "- CancerVol shows high positive skewness."
   ]
  },
  {
   "cell_type": "markdown",
   "metadata": {},
   "source": [
    "### Age"
   ]
  },
  {
   "cell_type": "code",
   "execution_count": 23,
   "metadata": {},
   "outputs": [
    {
     "data": {
      "image/png": "[encoded data removed]",
      "text/plain": [
       "<Figure size 432x288 with 1 Axes>"
      ]
     },
     "metadata": {
      "needs_background": "light"
     },
     "output_type": "display_data"
    }
   ],
   "source": [
    "df.Age.plot(kind='box');"
   ]
  },
  {
   "cell_type": "code",
   "execution_count": 24,
   "metadata": {},
   "outputs": [
    {
     "data": {
      "image/png": "[encoded data removed]",
      "text/plain": [
       "<Figure size 432x288 with 1 Axes>"
      ]
     },
     "metadata": {
      "needs_background": "light"
     },
     "output_type": "display_data"
    }
   ],
   "source": [
    "df.Age.plot(kind='hist', title='Histogram of Age', color='c', bins=20);"
   ]
  },
  {
   "cell_type": "markdown",
   "metadata": {},
   "source": [
    "### Bi-variate Interactions"
   ]
  },
  {
   "cell_type": "code",
   "execution_count": 25,
   "metadata": {},
   "outputs": [
    {
     "data": {
      "image/png": "[encoded data removed]",
      "text/plain": [
       "<Figure size 432x288 with 1 Axes>"
      ]
     },
     "metadata": {
      "needs_background": "light"
     },
     "output_type": "display_data"
    }
   ],
   "source": [
    "# use scatter plot for bi-variate distribution\n",
    "df.plot.scatter(x='Age', y='PSALevel', color='c', title='Scatter Plot: Age vs. PSA Level');"
   ]
  },
  {
   "cell_type": "code",
   "execution_count": 26,
   "metadata": {},
   "outputs": [
    {
     "data": {
      "image/png": "[encoded data removed]",
      "text/plain": [
       "<Figure size 432x288 with 1 Axes>"
      ]
     },
     "metadata": {
      "needs_background": "light"
     },
     "output_type": "display_data"
    }
   ],
   "source": [
    "df.plot.scatter(x='PSALevel', y='CancerVol', color='c', title='Scatter Plot: PSA Level vs. Cancer Volume');"
   ]
  },
  {
   "cell_type": "markdown",
   "metadata": {},
   "source": [
    "- PSA Level & Cancer Volume display a mild level of correlation"
   ]
  },
  {
   "cell_type": "code",
   "execution_count": 27,
   "metadata": {},
   "outputs": [
    {
     "data": {
      "image/png": "[encoded data removed]",
      "text/plain": [
       "<Figure size 432x288 with 1 Axes>"
      ]
     },
     "metadata": {
      "needs_background": "light"
     },
     "output_type": "display_data"
    }
   ],
   "source": [
    "df.plot.scatter(x='Age', y='CancerVol', color='c', title='Scatter Plot: Age vs. Cancer Volume');"
   ]
  },
  {
   "cell_type": "code",
   "execution_count": 28,
   "metadata": {},
   "outputs": [
    {
     "data": {
      "image/png": "[encoded data removed]",
      "text/plain": [
       "<Figure size 432x288 with 1 Axes>"
      ]
     },
     "metadata": {
      "needs_background": "light"
     },
     "output_type": "display_data"
    },
    {
     "data": {
      "image/png": "[encoded data removed]",
      "text/plain": [
       "<Figure size 432x288 with 1 Axes>"
      ]
     },
     "metadata": {
      "needs_background": "light"
     },
     "output_type": "display_data"
    },
    {
     "data": {
      "image/png": "[encoded data removed]",
      "text/plain": [
       "<Figure size 432x288 with 1 Axes>"
      ]
     },
     "metadata": {
      "needs_background": "light"
     },
     "output_type": "display_data"
    }
   ],
   "source": [
    "# plot PSALevel, CancerVol, and Age against GleasonScore\n",
    "df.plot.scatter(x='GleasonScore', y='PSALevel', color='c', alpha=0.2, title='Scatter Plot: PSA Level vs. Gleason Score');\n",
    "df.plot.scatter(x='GleasonScore', y='CancerVol', color='c', alpha=0.2, title='Scatter Plot: Cancer Volume vs. Gleason Score');\n",
    "df.plot.scatter(x='GleasonScore', y='Age', color='c', alpha=0.2, title='Scatter Plot: Age vs. Gleason Score');"
   ]
  },
  {
   "cell_type": "markdown",
   "metadata": {},
   "source": [
    "- High levels of PSALevel and/or CancerVol may suggest GleasonScore = 8."
   ]
  },
  {
   "cell_type": "code",
   "execution_count": 29,
   "metadata": {},
   "outputs": [
    {
     "name": "stdout",
     "output_type": "stream",
     "text": [
      "The skewness of PSALevel is: 4.39\n",
      "The skewness of CancerVol is: 2.18\n",
      "The skewness of Weight is: 7.46\n",
      "The skewness of Age is: -0.83\n",
      "The skewness of BenignProstaticHyperplasia is: 0.98\n",
      "The skewness of SeminalVesicleInvasion is: 1.4\n",
      "The skewness of CapsularPenetration is: 2.13\n",
      "The skewness of GleasonScore is: 0.2\n",
      "The skewness of Y_HighGradeCancer is: 1.4\n"
     ]
    }
   ],
   "source": [
    "# calculate skewness for all columns in dataframe\n",
    "for label, content in df.items():\n",
    "    print(f'The skewness of {label} is: {round(content.skew(), 2)}')"
   ]
  },
  {
   "cell_type": "markdown",
   "metadata": {},
   "source": [
    "- PSALevel, CancerVol, and Weight are showing high skew values, and may require transformations in my analysis."
   ]
  },
  {
   "cell_type": "markdown",
   "metadata": {},
   "source": [
    "## Working With Outliers"
   ]
  },
  {
   "cell_type": "markdown",
   "metadata": {},
   "source": [
    "### PSA Level"
   ]
  },
  {
   "cell_type": "code",
   "execution_count": 30,
   "metadata": {},
   "outputs": [
    {
     "name": "stdout",
     "output_type": "stream",
     "text": [
      "The upper boundry for outliers in PSALevel is: 44.86\n"
     ]
    },
    {
     "data": {
      "text/html": [
       "<div>\n",
       "<style scoped>\n",
       "    .dataframe tbody tr th:only-of-type {\n",
       "        vertical-align: middle;\n",
       "    }\n",
       "\n",
       "    .dataframe tbody tr th {\n",
       "        vertical-align: top;\n",
       "    }\n",
       "\n",
       "    .dataframe thead th {\n",
       "        text-align: right;\n",
       "    }\n",
       "</style>\n",
       "<table border=\"1\" class=\"dataframe\">\n",
       "  <thead>\n",
       "    <tr style=\"text-align: right;\">\n",
       "      <th></th>\n",
       "      <th>PSALevel</th>\n",
       "      <th>CancerVol</th>\n",
       "      <th>Weight</th>\n",
       "      <th>Age</th>\n",
       "      <th>BenignProstaticHyperplasia</th>\n",
       "      <th>SeminalVesicleInvasion</th>\n",
       "      <th>CapsularPenetration</th>\n",
       "      <th>GleasonScore</th>\n",
       "      <th>Y_HighGradeCancer</th>\n",
       "    </tr>\n",
       "    <tr>\n",
       "      <th>Obs</th>\n",
       "      <th></th>\n",
       "      <th></th>\n",
       "      <th></th>\n",
       "      <th></th>\n",
       "      <th></th>\n",
       "      <th></th>\n",
       "      <th></th>\n",
       "      <th></th>\n",
       "      <th></th>\n",
       "    </tr>\n",
       "  </thead>\n",
       "  <tbody>\n",
       "    <tr>\n",
       "      <td>89</td>\n",
       "      <td>53.517</td>\n",
       "      <td>16.6099</td>\n",
       "      <td>112.168</td>\n",
       "      <td>65</td>\n",
       "      <td>0.0000</td>\n",
       "      <td>1</td>\n",
       "      <td>11.7048</td>\n",
       "      <td>8</td>\n",
       "      <td>1</td>\n",
       "    </tr>\n",
       "    <tr>\n",
       "      <td>90</td>\n",
       "      <td>54.055</td>\n",
       "      <td>4.7588</td>\n",
       "      <td>40.447</td>\n",
       "      <td>76</td>\n",
       "      <td>2.5600</td>\n",
       "      <td>1</td>\n",
       "      <td>2.2479</td>\n",
       "      <td>8</td>\n",
       "      <td>1</td>\n",
       "    </tr>\n",
       "    <tr>\n",
       "      <td>91</td>\n",
       "      <td>56.261</td>\n",
       "      <td>25.7903</td>\n",
       "      <td>60.340</td>\n",
       "      <td>68</td>\n",
       "      <td>0.0000</td>\n",
       "      <td>0</td>\n",
       "      <td>0.0000</td>\n",
       "      <td>6</td>\n",
       "      <td>0</td>\n",
       "    </tr>\n",
       "    <tr>\n",
       "      <td>92</td>\n",
       "      <td>62.178</td>\n",
       "      <td>12.5535</td>\n",
       "      <td>39.646</td>\n",
       "      <td>61</td>\n",
       "      <td>3.8574</td>\n",
       "      <td>1</td>\n",
       "      <td>0.0000</td>\n",
       "      <td>7</td>\n",
       "      <td>0</td>\n",
       "    </tr>\n",
       "    <tr>\n",
       "      <td>93</td>\n",
       "      <td>80.640</td>\n",
       "      <td>16.9455</td>\n",
       "      <td>48.424</td>\n",
       "      <td>68</td>\n",
       "      <td>0.0000</td>\n",
       "      <td>1</td>\n",
       "      <td>3.7434</td>\n",
       "      <td>8</td>\n",
       "      <td>1</td>\n",
       "    </tr>\n",
       "    <tr>\n",
       "      <td>94</td>\n",
       "      <td>107.770</td>\n",
       "      <td>45.6042</td>\n",
       "      <td>49.402</td>\n",
       "      <td>44</td>\n",
       "      <td>0.0000</td>\n",
       "      <td>1</td>\n",
       "      <td>8.7583</td>\n",
       "      <td>8</td>\n",
       "      <td>1</td>\n",
       "    </tr>\n",
       "    <tr>\n",
       "      <td>95</td>\n",
       "      <td>170.716</td>\n",
       "      <td>18.3568</td>\n",
       "      <td>29.964</td>\n",
       "      <td>52</td>\n",
       "      <td>0.0000</td>\n",
       "      <td>1</td>\n",
       "      <td>11.7048</td>\n",
       "      <td>8</td>\n",
       "      <td>1</td>\n",
       "    </tr>\n",
       "    <tr>\n",
       "      <td>96</td>\n",
       "      <td>239.847</td>\n",
       "      <td>17.8143</td>\n",
       "      <td>43.380</td>\n",
       "      <td>68</td>\n",
       "      <td>4.7588</td>\n",
       "      <td>1</td>\n",
       "      <td>4.7588</td>\n",
       "      <td>8</td>\n",
       "      <td>1</td>\n",
       "    </tr>\n",
       "    <tr>\n",
       "      <td>97</td>\n",
       "      <td>265.072</td>\n",
       "      <td>32.1367</td>\n",
       "      <td>52.985</td>\n",
       "      <td>68</td>\n",
       "      <td>1.5527</td>\n",
       "      <td>1</td>\n",
       "      <td>18.1741</td>\n",
       "      <td>8</td>\n",
       "      <td>1</td>\n",
       "    </tr>\n",
       "  </tbody>\n",
       "</table>\n",
       "</div>"
      ],
      "text/plain": [
       "     PSALevel  CancerVol   Weight  Age  BenignProstaticHyperplasia  \\\n",
       "Obs                                                                  \n",
       "89     53.517    16.6099  112.168   65                      0.0000   \n",
       "90     54.055     4.7588   40.447   76                      2.5600   \n",
       "91     56.261    25.7903   60.340   68                      0.0000   \n",
       "92     62.178    12.5535   39.646   61                      3.8574   \n",
       "93     80.640    16.9455   48.424   68                      0.0000   \n",
       "94    107.770    45.6042   49.402   44                      0.0000   \n",
       "95    170.716    18.3568   29.964   52                      0.0000   \n",
       "96    239.847    17.8143   43.380   68                      4.7588   \n",
       "97    265.072    32.1367   52.985   68                      1.5527   \n",
       "\n",
       "     SeminalVesicleInvasion  CapsularPenetration  GleasonScore  \\\n",
       "Obs                                                              \n",
       "89                        1              11.7048             8   \n",
       "90                        1               2.2479             8   \n",
       "91                        0               0.0000             6   \n",
       "92                        1               0.0000             7   \n",
       "93                        1               3.7434             8   \n",
       "94                        1               8.7583             8   \n",
       "95                        1              11.7048             8   \n",
       "96                        1               4.7588             8   \n",
       "97                        1              18.1741             8   \n",
       "\n",
       "     Y_HighGradeCancer  \n",
       "Obs                     \n",
       "89                   1  \n",
       "90                   1  \n",
       "91                   0  \n",
       "92                   0  \n",
       "93                   1  \n",
       "94                   1  \n",
       "95                   1  \n",
       "96                   1  \n",
       "97                   1  "
      ]
     },
     "execution_count": 30,
     "metadata": {},
     "output_type": "execute_result"
    }
   ],
   "source": [
    "# calculate IQR and find upper outlier fence\n",
    "\n",
    "PSALevel_Q1 = np.percentile(df.PSALevel, 25)\n",
    "PSALevel_Q2 = np.percentile(df.PSALevel, 50)\n",
    "PSALevel_Q3 = np.percentile(df.PSALevel, 75)\n",
    "PSALevel_IQR = PSALevel_Q3 - PSALevel_Q1  # inner quartile range\n",
    "PSALevel_upper_fence = PSALevel_Q3 + 1.5 * PSALevel_IQR\n",
    "print(f'The upper boundry for outliers in PSALevel is: {round(PSALevel_upper_fence, 2)}')\n",
    "\n",
    "# show relevant outlier data\n",
    "df.loc[df.PSALevel >= PSALevel_upper_fence, :]"
   ]
  },
  {
   "cell_type": "markdown",
   "metadata": {},
   "source": [
    "### Cancer Volume"
   ]
  },
  {
   "cell_type": "code",
   "execution_count": 31,
   "metadata": {},
   "outputs": [
    {
     "name": "stdout",
     "output_type": "stream",
     "text": [
      "The upper boundry for MILD OUTLIERS in CancerVol is: 12.55\n",
      "The upper boundry for EXTREME OUTLIERS in CancerVol is: 14.77\n"
     ]
    },
    {
     "data": {
      "text/html": [
       "<div>\n",
       "<style scoped>\n",
       "    .dataframe tbody tr th:only-of-type {\n",
       "        vertical-align: middle;\n",
       "    }\n",
       "\n",
       "    .dataframe tbody tr th {\n",
       "        vertical-align: top;\n",
       "    }\n",
       "\n",
       "    .dataframe thead th {\n",
       "        text-align: right;\n",
       "    }\n",
       "</style>\n",
       "<table border=\"1\" class=\"dataframe\">\n",
       "  <thead>\n",
       "    <tr style=\"text-align: right;\">\n",
       "      <th></th>\n",
       "      <th>PSALevel</th>\n",
       "      <th>CancerVol</th>\n",
       "      <th>Weight</th>\n",
       "      <th>Age</th>\n",
       "      <th>BenignProstaticHyperplasia</th>\n",
       "      <th>SeminalVesicleInvasion</th>\n",
       "      <th>CapsularPenetration</th>\n",
       "      <th>GleasonScore</th>\n",
       "      <th>Y_HighGradeCancer</th>\n",
       "    </tr>\n",
       "    <tr>\n",
       "      <th>Obs</th>\n",
       "      <th></th>\n",
       "      <th></th>\n",
       "      <th></th>\n",
       "      <th></th>\n",
       "      <th></th>\n",
       "      <th></th>\n",
       "      <th></th>\n",
       "      <th></th>\n",
       "      <th></th>\n",
       "    </tr>\n",
       "  </thead>\n",
       "  <tbody>\n",
       "    <tr>\n",
       "      <td>76</td>\n",
       "      <td>28.219</td>\n",
       "      <td>23.1039</td>\n",
       "      <td>26.05</td>\n",
       "      <td>68</td>\n",
       "      <td>0.9512</td>\n",
       "      <td>1</td>\n",
       "      <td>11.2459</td>\n",
       "      <td>6</td>\n",
       "      <td>0</td>\n",
       "    </tr>\n",
       "    <tr>\n",
       "      <td>91</td>\n",
       "      <td>56.261</td>\n",
       "      <td>25.7903</td>\n",
       "      <td>60.34</td>\n",
       "      <td>68</td>\n",
       "      <td>0.0000</td>\n",
       "      <td>0</td>\n",
       "      <td>0.0000</td>\n",
       "      <td>6</td>\n",
       "      <td>0</td>\n",
       "    </tr>\n",
       "  </tbody>\n",
       "</table>\n",
       "</div>"
      ],
      "text/plain": [
       "     PSALevel  CancerVol  Weight  Age  BenignProstaticHyperplasia  \\\n",
       "Obs                                                                 \n",
       "76     28.219    23.1039   26.05   68                      0.9512   \n",
       "91     56.261    25.7903   60.34   68                      0.0000   \n",
       "\n",
       "     SeminalVesicleInvasion  CapsularPenetration  GleasonScore  \\\n",
       "Obs                                                              \n",
       "76                        1              11.2459             6   \n",
       "91                        0               0.0000             6   \n",
       "\n",
       "     Y_HighGradeCancer  \n",
       "Obs                     \n",
       "76                   0  \n",
       "91                   0  "
      ]
     },
     "execution_count": 31,
     "metadata": {},
     "output_type": "execute_result"
    }
   ],
   "source": [
    "# calculate IQR and find upper outlier fences (mild and extreme)\n",
    "# consider only where Y_HighGradeCancer == 0\n",
    "\n",
    "CancerVol_Q1 = np.percentile(df.loc[df.Y_HighGradeCancer == 0, :]['CancerVol'], 25)\n",
    "CancerVol_Q2 = np.percentile(df.loc[df.Y_HighGradeCancer == 0, :]['CancerVol'], 50)\n",
    "CancerVol_Q3 = np.percentile(df.loc[df.Y_HighGradeCancer == 0, :]['CancerVol'], 75)\n",
    "CancerVol_IQR = CancerVol_Q3 - CancerVol_Q1  # inner quartile range\n",
    "CancerVol_mild_upper_fence = CancerVol_Q3 + 1.5 * CancerVol_IQR\n",
    "CancerVol_extreme_upper_fence = CancerVol_Q3 + 2.0 * CancerVol_IQR\n",
    "print(f'The upper boundry for MILD OUTLIERS in CancerVol is: {round(CancerVol_mild_upper_fence, 2)}')\n",
    "print(f'The upper boundry for EXTREME OUTLIERS in CancerVol is: {round(CancerVol_extreme_upper_fence, 2)}')\n",
    "\n",
    "df.loc[(df.CancerVol > CancerVol_extreme_upper_fence) & (df.Y_HighGradeCancer == 0) ]"
   ]
  },
  {
   "cell_type": "markdown",
   "metadata": {},
   "source": [
    "### Age"
   ]
  },
  {
   "cell_type": "code",
   "execution_count": 32,
   "metadata": {},
   "outputs": [
    {
     "name": "stdout",
     "output_type": "stream",
     "text": [
      "The lower boundry for outliers in Age is: 48.0\n"
     ]
    },
    {
     "data": {
      "text/html": [
       "<div>\n",
       "<style scoped>\n",
       "    .dataframe tbody tr th:only-of-type {\n",
       "        vertical-align: middle;\n",
       "    }\n",
       "\n",
       "    .dataframe tbody tr th {\n",
       "        vertical-align: top;\n",
       "    }\n",
       "\n",
       "    .dataframe thead th {\n",
       "        text-align: right;\n",
       "    }\n",
       "</style>\n",
       "<table border=\"1\" class=\"dataframe\">\n",
       "  <thead>\n",
       "    <tr style=\"text-align: right;\">\n",
       "      <th></th>\n",
       "      <th>PSALevel</th>\n",
       "      <th>CancerVol</th>\n",
       "      <th>Weight</th>\n",
       "      <th>Age</th>\n",
       "      <th>BenignProstaticHyperplasia</th>\n",
       "      <th>SeminalVesicleInvasion</th>\n",
       "      <th>CapsularPenetration</th>\n",
       "      <th>GleasonScore</th>\n",
       "      <th>Y_HighGradeCancer</th>\n",
       "    </tr>\n",
       "    <tr>\n",
       "      <th>Obs</th>\n",
       "      <th></th>\n",
       "      <th></th>\n",
       "      <th></th>\n",
       "      <th></th>\n",
       "      <th></th>\n",
       "      <th></th>\n",
       "      <th></th>\n",
       "      <th></th>\n",
       "      <th></th>\n",
       "    </tr>\n",
       "  </thead>\n",
       "  <tbody>\n",
       "    <tr>\n",
       "      <td>9</td>\n",
       "      <td>2.858</td>\n",
       "      <td>0.4584</td>\n",
       "      <td>34.467</td>\n",
       "      <td>47</td>\n",
       "      <td>0.0</td>\n",
       "      <td>0</td>\n",
       "      <td>0.0000</td>\n",
       "      <td>7</td>\n",
       "      <td>0</td>\n",
       "    </tr>\n",
       "    <tr>\n",
       "      <td>19</td>\n",
       "      <td>4.759</td>\n",
       "      <td>0.5712</td>\n",
       "      <td>26.311</td>\n",
       "      <td>41</td>\n",
       "      <td>0.0</td>\n",
       "      <td>0</td>\n",
       "      <td>0.0000</td>\n",
       "      <td>6</td>\n",
       "      <td>0</td>\n",
       "    </tr>\n",
       "    <tr>\n",
       "      <td>49</td>\n",
       "      <td>13.330</td>\n",
       "      <td>5.7546</td>\n",
       "      <td>33.115</td>\n",
       "      <td>43</td>\n",
       "      <td>0.0</td>\n",
       "      <td>0</td>\n",
       "      <td>0.0000</td>\n",
       "      <td>6</td>\n",
       "      <td>0</td>\n",
       "    </tr>\n",
       "    <tr>\n",
       "      <td>57</td>\n",
       "      <td>16.281</td>\n",
       "      <td>2.6379</td>\n",
       "      <td>17.637</td>\n",
       "      <td>47</td>\n",
       "      <td>0.0</td>\n",
       "      <td>0</td>\n",
       "      <td>1.6487</td>\n",
       "      <td>7</td>\n",
       "      <td>0</td>\n",
       "    </tr>\n",
       "    <tr>\n",
       "      <td>94</td>\n",
       "      <td>107.770</td>\n",
       "      <td>45.6042</td>\n",
       "      <td>49.402</td>\n",
       "      <td>44</td>\n",
       "      <td>0.0</td>\n",
       "      <td>1</td>\n",
       "      <td>8.7583</td>\n",
       "      <td>8</td>\n",
       "      <td>1</td>\n",
       "    </tr>\n",
       "  </tbody>\n",
       "</table>\n",
       "</div>"
      ],
      "text/plain": [
       "     PSALevel  CancerVol  Weight  Age  BenignProstaticHyperplasia  \\\n",
       "Obs                                                                 \n",
       "9       2.858     0.4584  34.467   47                         0.0   \n",
       "19      4.759     0.5712  26.311   41                         0.0   \n",
       "49     13.330     5.7546  33.115   43                         0.0   \n",
       "57     16.281     2.6379  17.637   47                         0.0   \n",
       "94    107.770    45.6042  49.402   44                         0.0   \n",
       "\n",
       "     SeminalVesicleInvasion  CapsularPenetration  GleasonScore  \\\n",
       "Obs                                                              \n",
       "9                         0               0.0000             7   \n",
       "19                        0               0.0000             6   \n",
       "49                        0               0.0000             6   \n",
       "57                        0               1.6487             7   \n",
       "94                        1               8.7583             8   \n",
       "\n",
       "     Y_HighGradeCancer  \n",
       "Obs                     \n",
       "9                    0  \n",
       "19                   0  \n",
       "49                   0  \n",
       "57                   0  \n",
       "94                   1  "
      ]
     },
     "execution_count": 32,
     "metadata": {},
     "output_type": "execute_result"
    }
   ],
   "source": [
    "# calculate IQR and find lower outlier fence\n",
    "\n",
    "Age_Q1 = np.percentile(df.Age, 25)\n",
    "Age_Q2 = np.percentile(df.Age, 50)\n",
    "Age_Q3 = np.percentile(df.Age, 75)\n",
    "Age_IQR = Age_Q3 - Age_Q1 # inner quartile range\n",
    "Age_lower_fence = Age_Q1 -  1.5 * Age_IQR\n",
    "print(f'The lower boundry for outliers in Age is: {Age_lower_fence}')\n",
    "\n",
    "df.loc[df.Age < Age_lower_fence]"
   ]
  },
  {
   "cell_type": "markdown",
   "metadata": {},
   "source": [
    "## Transformations"
   ]
  },
  {
   "cell_type": "markdown",
   "metadata": {},
   "source": [
    "- This section is for investigation/analysis purposes only. I may or may not include transformations in the finalized processed dataset.\n",
    "- Considering only PSALevel, CancerVol, and Weight at this time."
   ]
  },
  {
   "cell_type": "code",
   "execution_count": 33,
   "metadata": {},
   "outputs": [],
   "source": [
    "# try log transformations to reduce skewness\n",
    "log_PSALevel = np.log(df.PSALevel)\n",
    "log_CancerVol = np.log(df.CancerVol)\n",
    "log_Weight = np.log(df.Weight)"
   ]
  },
  {
   "cell_type": "code",
   "execution_count": 34,
   "metadata": {},
   "outputs": [
    {
     "data": {
      "image/png": "[encoded data removed]",
      "text/plain": [
       "<Figure size 432x288 with 1 Axes>"
      ]
     },
     "metadata": {
      "needs_background": "light"
     },
     "output_type": "display_data"
    }
   ],
   "source": [
    "# histogram of log PSALevel\n",
    "log_PSALevel.plot(kind='hist', color='c', bins=20);"
   ]
  },
  {
   "cell_type": "code",
   "execution_count": 35,
   "metadata": {},
   "outputs": [
    {
     "data": {
      "image/png": "[encoded data removed]",
      "text/plain": [
       "<Figure size 432x288 with 1 Axes>"
      ]
     },
     "metadata": {
      "needs_background": "light"
     },
     "output_type": "display_data"
    }
   ],
   "source": [
    "# histogram of log CancerVol\n",
    "log_CancerVol.plot(kind='hist', color='c', bins=20);"
   ]
  },
  {
   "cell_type": "code",
   "execution_count": 36,
   "metadata": {},
   "outputs": [
    {
     "data": {
      "image/png": "[encoded data removed]",
      "text/plain": [
       "<Figure size 432x288 with 1 Axes>"
      ]
     },
     "metadata": {
      "needs_background": "light"
     },
     "output_type": "display_data"
    }
   ],
   "source": [
    "# histogram of log Weight\n",
    "log_Weight.plot(kind='hist', color='c', bins=20);"
   ]
  },
  {
   "cell_type": "code",
   "execution_count": 37,
   "metadata": {},
   "outputs": [
    {
     "name": "stdout",
     "output_type": "stream",
     "text": [
      "Original PSALevel skewness: 4.39\n",
      "Original CancerVol skewness: 2.18\n",
      "Original Weight skewness: 7.46\n",
      "Log Transformed PSALevel skewness: 0.0\n",
      "Log Transformed CancerVol skewness: -0.25\n",
      "Log Transformwed Weight skewness: 1.21\n"
     ]
    }
   ],
   "source": [
    "# print original skew values\n",
    "print(f'Original PSALevel skewness: {round(df.PSALevel.skew(), 2)}')\n",
    "print(f'Original CancerVol skewness: {round(df.CancerVol.skew(), 2)}')\n",
    "print(f'Original Weight skewness: {round(df.Weight.skew(), 2)}')\n",
    "\n",
    "# print transformed skew values\n",
    "print(f'Log Transformed PSALevel skewness: {round(log_PSALevel.skew(), 2)}')\n",
    "print(f'Log Transformed CancerVol skewness: {round(log_CancerVol.skew(), 2)}')\n",
    "print(f'Log Transformwed Weight skewness: {round(log_Weight.skew(), 2)}')"
   ]
  },
  {
   "cell_type": "markdown",
   "metadata": {},
   "source": [
    "- Log transformations have dramatically improved PSALevel and CancerVol skewness.\n",
    "- I will include the transformed fields within final processed dataset."
   ]
  },
  {
   "cell_type": "markdown",
   "metadata": {},
   "source": [
    "## Drop, Modify, and Reorder Columns"
   ]
  },
  {
   "cell_type": "markdown",
   "metadata": {},
   "source": [
    "GleasonScore can now be removed from the dataset, as it will not be considered as a predictor of Y_HighGradeCancer.\n",
    "<br>Let's also move the response variable to the 1st column, for ease of use durring model building."
   ]
  },
  {
   "cell_type": "code",
   "execution_count": 38,
   "metadata": {},
   "outputs": [],
   "source": [
    "# remove GleasonScore from dataset and assign to new \"df_trimmed\" dataframe\n",
    "df_trimmed = df.drop(columns=['GleasonScore'], axis=1)"
   ]
  },
  {
   "cell_type": "code",
   "execution_count": 39,
   "metadata": {},
   "outputs": [
    {
     "data": {
      "text/html": [
       "<div>\n",
       "<style scoped>\n",
       "    .dataframe tbody tr th:only-of-type {\n",
       "        vertical-align: middle;\n",
       "    }\n",
       "\n",
       "    .dataframe tbody tr th {\n",
       "        vertical-align: top;\n",
       "    }\n",
       "\n",
       "    .dataframe thead th {\n",
       "        text-align: right;\n",
       "    }\n",
       "</style>\n",
       "<table border=\"1\" class=\"dataframe\">\n",
       "  <thead>\n",
       "    <tr style=\"text-align: right;\">\n",
       "      <th></th>\n",
       "      <th>Y_HighGradeCancer</th>\n",
       "      <th>PSALevel</th>\n",
       "      <th>CancerVol</th>\n",
       "      <th>Weight</th>\n",
       "      <th>Age</th>\n",
       "      <th>BenignProstaticHyperplasia</th>\n",
       "      <th>SeminalVesicleInvasion</th>\n",
       "      <th>CapsularPenetration</th>\n",
       "    </tr>\n",
       "    <tr>\n",
       "      <th>Obs</th>\n",
       "      <th></th>\n",
       "      <th></th>\n",
       "      <th></th>\n",
       "      <th></th>\n",
       "      <th></th>\n",
       "      <th></th>\n",
       "      <th></th>\n",
       "      <th></th>\n",
       "    </tr>\n",
       "  </thead>\n",
       "  <tbody>\n",
       "    <tr>\n",
       "      <td>1</td>\n",
       "      <td>0</td>\n",
       "      <td>0.651</td>\n",
       "      <td>0.5599</td>\n",
       "      <td>15.959</td>\n",
       "      <td>50</td>\n",
       "      <td>0.0</td>\n",
       "      <td>0</td>\n",
       "      <td>0.0</td>\n",
       "    </tr>\n",
       "    <tr>\n",
       "      <td>2</td>\n",
       "      <td>0</td>\n",
       "      <td>0.852</td>\n",
       "      <td>0.3716</td>\n",
       "      <td>27.660</td>\n",
       "      <td>58</td>\n",
       "      <td>0.0</td>\n",
       "      <td>0</td>\n",
       "      <td>0.0</td>\n",
       "    </tr>\n",
       "    <tr>\n",
       "      <td>3</td>\n",
       "      <td>0</td>\n",
       "      <td>0.852</td>\n",
       "      <td>0.6005</td>\n",
       "      <td>14.732</td>\n",
       "      <td>74</td>\n",
       "      <td>0.0</td>\n",
       "      <td>0</td>\n",
       "      <td>0.0</td>\n",
       "    </tr>\n",
       "    <tr>\n",
       "      <td>4</td>\n",
       "      <td>0</td>\n",
       "      <td>0.852</td>\n",
       "      <td>0.3012</td>\n",
       "      <td>26.576</td>\n",
       "      <td>58</td>\n",
       "      <td>0.0</td>\n",
       "      <td>0</td>\n",
       "      <td>0.0</td>\n",
       "    </tr>\n",
       "    <tr>\n",
       "      <td>5</td>\n",
       "      <td>0</td>\n",
       "      <td>1.448</td>\n",
       "      <td>2.1170</td>\n",
       "      <td>30.877</td>\n",
       "      <td>62</td>\n",
       "      <td>0.0</td>\n",
       "      <td>0</td>\n",
       "      <td>0.0</td>\n",
       "    </tr>\n",
       "  </tbody>\n",
       "</table>\n",
       "</div>"
      ],
      "text/plain": [
       "     Y_HighGradeCancer  PSALevel  CancerVol  Weight  Age  \\\n",
       "Obs                                                        \n",
       "1                    0     0.651     0.5599  15.959   50   \n",
       "2                    0     0.852     0.3716  27.660   58   \n",
       "3                    0     0.852     0.6005  14.732   74   \n",
       "4                    0     0.852     0.3012  26.576   58   \n",
       "5                    0     1.448     2.1170  30.877   62   \n",
       "\n",
       "     BenignProstaticHyperplasia  SeminalVesicleInvasion  CapsularPenetration  \n",
       "Obs                                                                           \n",
       "1                           0.0                       0                  0.0  \n",
       "2                           0.0                       0                  0.0  \n",
       "3                           0.0                       0                  0.0  \n",
       "4                           0.0                       0                  0.0  \n",
       "5                           0.0                       0                  0.0  "
      ]
     },
     "execution_count": 39,
     "metadata": {},
     "output_type": "execute_result"
    }
   ],
   "source": [
    "# reorder columns\n",
    "cols = [col for col in df_trimmed.columns if col != 'Y_HighGradeCancer']\n",
    "cols = ['Y_HighGradeCancer'] + cols\n",
    "df_trimmed = df_trimmed[cols]\n",
    "df_trimmed.head()"
   ]
  },
  {
   "cell_type": "code",
   "execution_count": 40,
   "metadata": {},
   "outputs": [
    {
     "name": "stdout",
     "output_type": "stream",
     "text": [
      "<class 'pandas.core.frame.DataFrame'>\n",
      "Int64Index: 97 entries, 1 to 97\n",
      "Data columns (total 8 columns):\n",
      "Y_HighGradeCancer             97 non-null int32\n",
      "PSALevel                      97 non-null float64\n",
      "CancerVol                     97 non-null float64\n",
      "Weight                        97 non-null float64\n",
      "Age                           97 non-null int64\n",
      "BenignProstaticHyperplasia    97 non-null float64\n",
      "SeminalVesicleInvasion        97 non-null int64\n",
      "CapsularPenetration           97 non-null float64\n",
      "dtypes: float64(5), int32(1), int64(2)\n",
      "memory usage: 6.4 KB\n"
     ]
    }
   ],
   "source": [
    "df_trimmed.info()"
   ]
  },
  {
   "cell_type": "markdown",
   "metadata": {},
   "source": [
    "## Standardize DataFrame"
   ]
  },
  {
   "cell_type": "markdown",
   "metadata": {},
   "source": [
    "- Variable transformation and standardization is an important technique used to create robust models using logistic regression."
   ]
  },
  {
   "cell_type": "code",
   "execution_count": 41,
   "metadata": {},
   "outputs": [],
   "source": [
    "# import and create instance of standardization class from sklearn module\n",
    "from sklearn.preprocessing import StandardScaler\n",
    "scaler = StandardScaler()"
   ]
  },
  {
   "cell_type": "code",
   "execution_count": 42,
   "metadata": {},
   "outputs": [],
   "source": [
    "# select columns which need to be standardized\n",
    "# do not inclue Y_HighGradeCancer or SeminalVesicleInvasion (categorical variables)\n",
    "cols = [col for col in df_trimmed.columns if col not in ['Y_HighGradeCancer', 'SeminalVesicleInvasion']]"
   ]
  },
  {
   "cell_type": "code",
   "execution_count": 43,
   "metadata": {},
   "outputs": [],
   "source": [
    "# make a copy of trimmed dataframe\n",
    "df_stand = df_trimmed.copy()"
   ]
  },
  {
   "cell_type": "code",
   "execution_count": 44,
   "metadata": {},
   "outputs": [],
   "source": [
    "# apply log transformations to both PSALevel and CancerVol\n",
    "df_stand['PSALevel'] = np.log(df_stand.PSALevel)\n",
    "df_stand['CancerVol'] = np.log(df_stand.CancerVol)\n",
    "df_stand['Weight'] = np.log(df_stand.Weight)"
   ]
  },
  {
   "cell_type": "code",
   "execution_count": 45,
   "metadata": {},
   "outputs": [],
   "source": [
    "# standardize the dataframe\n",
    "df_stand[cols] = scaler.fit_transform(df_stand[cols])"
   ]
  },
  {
   "cell_type": "code",
   "execution_count": 46,
   "metadata": {},
   "outputs": [
    {
     "data": {
      "text/html": [
       "<div>\n",
       "<style scoped>\n",
       "    .dataframe tbody tr th:only-of-type {\n",
       "        vertical-align: middle;\n",
       "    }\n",
       "\n",
       "    .dataframe tbody tr th {\n",
       "        vertical-align: top;\n",
       "    }\n",
       "\n",
       "    .dataframe thead th {\n",
       "        text-align: right;\n",
       "    }\n",
       "</style>\n",
       "<table border=\"1\" class=\"dataframe\">\n",
       "  <thead>\n",
       "    <tr style=\"text-align: right;\">\n",
       "      <th></th>\n",
       "      <th>Y_HighGradeCancer</th>\n",
       "      <th>PSALevel</th>\n",
       "      <th>CancerVol</th>\n",
       "      <th>Weight</th>\n",
       "      <th>Age</th>\n",
       "      <th>BenignProstaticHyperplasia</th>\n",
       "      <th>SeminalVesicleInvasion</th>\n",
       "      <th>CapsularPenetration</th>\n",
       "    </tr>\n",
       "  </thead>\n",
       "  <tbody>\n",
       "    <tr>\n",
       "      <td>count</td>\n",
       "      <td>97.000000</td>\n",
       "      <td>9.700000e+01</td>\n",
       "      <td>9.700000e+01</td>\n",
       "      <td>9.700000e+01</td>\n",
       "      <td>9.700000e+01</td>\n",
       "      <td>9.700000e+01</td>\n",
       "      <td>97.000000</td>\n",
       "      <td>9.700000e+01</td>\n",
       "    </tr>\n",
       "    <tr>\n",
       "      <td>mean</td>\n",
       "      <td>0.216495</td>\n",
       "      <td>7.783007e-17</td>\n",
       "      <td>-2.403576e-16</td>\n",
       "      <td>-5.013172e-16</td>\n",
       "      <td>3.433679e-16</td>\n",
       "      <td>6.409535e-17</td>\n",
       "      <td>0.216495</td>\n",
       "      <td>1.281907e-16</td>\n",
       "    </tr>\n",
       "    <tr>\n",
       "      <td>std</td>\n",
       "      <td>0.413995</td>\n",
       "      <td>1.005195e+00</td>\n",
       "      <td>1.005195e+00</td>\n",
       "      <td>1.005195e+00</td>\n",
       "      <td>1.005195e+00</td>\n",
       "      <td>1.005195e+00</td>\n",
       "      <td>0.413995</td>\n",
       "      <td>1.005195e+00</td>\n",
       "    </tr>\n",
       "    <tr>\n",
       "      <td>min</td>\n",
       "      <td>0.000000</td>\n",
       "      <td>-2.533700e+00</td>\n",
       "      <td>-2.302583e+00</td>\n",
       "      <td>-2.595287e+00</td>\n",
       "      <td>-3.087227e+00</td>\n",
       "      <td>-8.405624e-01</td>\n",
       "      <td>0.000000</td>\n",
       "      <td>-5.965729e-01</td>\n",
       "    </tr>\n",
       "    <tr>\n",
       "      <td>25%</td>\n",
       "      <td>0.000000</td>\n",
       "      <td>-6.522705e-01</td>\n",
       "      <td>-7.161288e-01</td>\n",
       "      <td>-5.518528e-01</td>\n",
       "      <td>-5.219612e-01</td>\n",
       "      <td>-8.405624e-01</td>\n",
       "      <td>0.000000</td>\n",
       "      <td>-5.965729e-01</td>\n",
       "    </tr>\n",
       "    <tr>\n",
       "      <td>50%</td>\n",
       "      <td>0.000000</td>\n",
       "      <td>9.701907e-02</td>\n",
       "      <td>8.555117e-02</td>\n",
       "      <td>-6.629801e-02</td>\n",
       "      <td>1.531086e-01</td>\n",
       "      <td>-3.929102e-01</td>\n",
       "      <td>0.000000</td>\n",
       "      <td>-4.771981e-01</td>\n",
       "    </tr>\n",
       "    <tr>\n",
       "      <td>75%</td>\n",
       "      <td>0.000000</td>\n",
       "      <td>5.065387e-01</td>\n",
       "      <td>6.655015e-01</td>\n",
       "      <td>4.596790e-01</td>\n",
       "      <td>5.581506e-01</td>\n",
       "      <td>7.375452e-01</td>\n",
       "      <td>0.000000</td>\n",
       "      <td>2.680906e-01</td>\n",
       "    </tr>\n",
       "    <tr>\n",
       "      <td>max</td>\n",
       "      <td>1.000000</td>\n",
       "      <td>2.702227e+00</td>\n",
       "      <td>2.106830e+00</td>\n",
       "      <td>4.971231e+00</td>\n",
       "      <td>2.043304e+00</td>\n",
       "      <td>2.567782e+00</td>\n",
       "      <td>1.000000</td>\n",
       "      <td>4.232114e+00</td>\n",
       "    </tr>\n",
       "  </tbody>\n",
       "</table>\n",
       "</div>"
      ],
      "text/plain": [
       "       Y_HighGradeCancer      PSALevel     CancerVol        Weight  \\\n",
       "count          97.000000  9.700000e+01  9.700000e+01  9.700000e+01   \n",
       "mean            0.216495  7.783007e-17 -2.403576e-16 -5.013172e-16   \n",
       "std             0.413995  1.005195e+00  1.005195e+00  1.005195e+00   \n",
       "min             0.000000 -2.533700e+00 -2.302583e+00 -2.595287e+00   \n",
       "25%             0.000000 -6.522705e-01 -7.161288e-01 -5.518528e-01   \n",
       "50%             0.000000  9.701907e-02  8.555117e-02 -6.629801e-02   \n",
       "75%             0.000000  5.065387e-01  6.655015e-01  4.596790e-01   \n",
       "max             1.000000  2.702227e+00  2.106830e+00  4.971231e+00   \n",
       "\n",
       "                Age  BenignProstaticHyperplasia  SeminalVesicleInvasion  \\\n",
       "count  9.700000e+01                9.700000e+01               97.000000   \n",
       "mean   3.433679e-16                6.409535e-17                0.216495   \n",
       "std    1.005195e+00                1.005195e+00                0.413995   \n",
       "min   -3.087227e+00               -8.405624e-01                0.000000   \n",
       "25%   -5.219612e-01               -8.405624e-01                0.000000   \n",
       "50%    1.531086e-01               -3.929102e-01                0.000000   \n",
       "75%    5.581506e-01                7.375452e-01                0.000000   \n",
       "max    2.043304e+00                2.567782e+00                1.000000   \n",
       "\n",
       "       CapsularPenetration  \n",
       "count         9.700000e+01  \n",
       "mean          1.281907e-16  \n",
       "std           1.005195e+00  \n",
       "min          -5.965729e-01  \n",
       "25%          -5.965729e-01  \n",
       "50%          -4.771981e-01  \n",
       "75%           2.680906e-01  \n",
       "max           4.232114e+00  "
      ]
     },
     "execution_count": 46,
     "metadata": {},
     "output_type": "execute_result"
    }
   ],
   "source": [
    "# the standardized features should now have mean=0 and sd=1\n",
    "df_stand.describe()"
   ]
  },
  {
   "cell_type": "markdown",
   "metadata": {},
   "source": [
    "Sanity check...\n",
    "<br> As a final measure, let's examine skew values of the final trimmed and transformed dataset:"
   ]
  },
  {
   "cell_type": "code",
   "execution_count": 47,
   "metadata": {},
   "outputs": [
    {
     "name": "stdout",
     "output_type": "stream",
     "text": [
      "The skewness of PSALevel is: 0.0\n",
      "The skewness of CancerVol is: -0.25\n",
      "The skewness of Weight is: 1.21\n",
      "The skewness of Age is: -0.83\n",
      "The skewness of BenignProstaticHyperplasia is: 0.98\n",
      "The skewness of SeminalVesicleInvasion is: 1.4\n",
      "The skewness of CapsularPenetration is: 2.13\n"
     ]
    }
   ],
   "source": [
    "# print skewness for all columns in trimmed and transformed dataset\n",
    "for label, content in df_stand.items():\n",
    "    if label != 'Y_HighGradeCancer':\n",
    "        print(f'The skewness of {label} is: {round(content.skew(), 2)}')"
   ]
  },
  {
   "cell_type": "code",
   "execution_count": 48,
   "metadata": {},
   "outputs": [
    {
     "data": {
      "image/png": "[encoded data removed]",
      "text/plain": [
       "<Figure size 432x288 with 1 Axes>"
      ]
     },
     "metadata": {
      "needs_background": "light"
     },
     "output_type": "display_data"
    }
   ],
   "source": [
    "# visualize skewness of a few impactful feautures\n",
    "df_stand[['PSALevel', 'CancerVol']].plot(kind='hist', title='Skewness Histogram');"
   ]
  },
  {
   "cell_type": "markdown",
   "metadata": {},
   "source": [
    "## Save Processed Data"
   ]
  },
  {
   "cell_type": "code",
   "execution_count": 49,
   "metadata": {},
   "outputs": [],
   "source": [
    "# define paths\n",
    "processed_data_path = os.path.join(os.path.pardir, 'data', 'processed')\n",
    "write_data_path = os.path.join(processed_data_path, 'APPENC05.txt')"
   ]
  },
  {
   "cell_type": "code",
   "execution_count": 50,
   "metadata": {},
   "outputs": [],
   "source": [
    "# save data\n",
    "df_stand.to_csv(write_data_path)"
   ]
  }
 ],
 "metadata": {
  "kernelspec": {
   "display_name": "Python 3",
   "language": "python",
   "name": "python3"
  },
  "language_info": {
   "codemirror_mode": {
    "name": "ipython",
    "version": 3
   },
   "file_extension": ".py",
   "mimetype": "text/x-python",
   "name": "python",
   "nbconvert_exporter": "python",
   "pygments_lexer": "ipython3",
   "version": "3.7.4"
  }
 },
 "nbformat": 4,
 "nbformat_minor": 2
}
